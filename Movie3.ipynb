{
 "cells": [
  {
   "cell_type": "code",
   "execution_count": 3,
   "metadata": {},
   "outputs": [],
   "source": [
    "import pandas as pd\n",
    "import numpy as np\n",
    "import warnings\n",
    "warnings.filterwarnings('ignore')\n",
    "# import tmdb"
   ]
  },
  {
   "cell_type": "markdown",
   "metadata": {},
   "source": [
    "## ////////////////////////////\n",
    "# 2018\n",
    "## ///////////////////////////"
   ]
  },
  {
   "cell_type": "code",
   "execution_count": 4,
   "metadata": {},
   "outputs": [],
   "source": [
    "link = \"https://en.wikipedia.org/wiki/List_of_American_films_of_2018\"\n",
    "df1 = pd.read_html(link, header=0)[2]\n",
    "df2 = pd.read_html(link, header=0)[3]\n",
    "df3 = pd.read_html(link, header=0)[4]\n",
    "df4 = pd.read_html(link, header=0)[5]"
   ]
  },
  {
   "cell_type": "code",
   "execution_count": 5,
   "metadata": {},
   "outputs": [],
   "source": [
    "df = df1.append(df2.append(df3.append(df4,ignore_index=True),ignore_index=True),ignore_index=True)"
   ]
  },
  {
   "cell_type": "code",
   "execution_count": 6,
   "metadata": {},
   "outputs": [
    {
     "data": {
      "text/html": [
       "<div>\n",
       "<style scoped>\n",
       "    .dataframe tbody tr th:only-of-type {\n",
       "        vertical-align: middle;\n",
       "    }\n",
       "\n",
       "    .dataframe tbody tr th {\n",
       "        vertical-align: top;\n",
       "    }\n",
       "\n",
       "    .dataframe thead th {\n",
       "        text-align: right;\n",
       "    }\n",
       "</style>\n",
       "<table border=\"1\" class=\"dataframe\">\n",
       "  <thead>\n",
       "    <tr style=\"text-align: right;\">\n",
       "      <th></th>\n",
       "      <th>Opening</th>\n",
       "      <th>Opening.1</th>\n",
       "      <th>Title</th>\n",
       "      <th>Production company</th>\n",
       "      <th>Cast and crew</th>\n",
       "      <th>Ref.</th>\n",
       "      <th>Unnamed: 6</th>\n",
       "    </tr>\n",
       "  </thead>\n",
       "  <tbody>\n",
       "    <tr>\n",
       "      <th>0</th>\n",
       "      <td>JANUARY</td>\n",
       "      <td>5</td>\n",
       "      <td>Insidious: The Last Key</td>\n",
       "      <td>Universal Pictures / Blumhouse Productions / S...</td>\n",
       "      <td>Adam Robitel (director); Leigh Whannell (scree...</td>\n",
       "      <td>[2]</td>\n",
       "      <td>NaN</td>\n",
       "    </tr>\n",
       "    <tr>\n",
       "      <th>1</th>\n",
       "      <td>JANUARY</td>\n",
       "      <td>5</td>\n",
       "      <td>The Strange Ones</td>\n",
       "      <td>Vertical Entertainment</td>\n",
       "      <td>Lauren Wolkstein (director); Christopher Radcl...</td>\n",
       "      <td>[3]</td>\n",
       "      <td>NaN</td>\n",
       "    </tr>\n",
       "  </tbody>\n",
       "</table>\n",
       "</div>"
      ],
      "text/plain": [
       "   Opening Opening.1                    Title  \\\n",
       "0  JANUARY         5  Insidious: The Last Key   \n",
       "1  JANUARY         5         The Strange Ones   \n",
       "\n",
       "                                  Production company  \\\n",
       "0  Universal Pictures / Blumhouse Productions / S...   \n",
       "1                             Vertical Entertainment   \n",
       "\n",
       "                                       Cast and crew Ref. Unnamed: 6  \n",
       "0  Adam Robitel (director); Leigh Whannell (scree...  [2]        NaN  \n",
       "1  Lauren Wolkstein (director); Christopher Radcl...  [3]        NaN  "
      ]
     },
     "execution_count": 6,
     "metadata": {},
     "output_type": "execute_result"
    }
   ],
   "source": [
    "df.head(2)"
   ]
  },
  {
   "cell_type": "code",
   "execution_count": 7,
   "metadata": {},
   "outputs": [],
   "source": [
    "# !pip install tmdbv3api"
   ]
  },
  {
   "cell_type": "code",
   "execution_count": 8,
   "metadata": {},
   "outputs": [],
   "source": [
    "from tmdbv3api import TMDb\n",
    "import json\n",
    "import requests\n",
    "tmdb = TMDb()\n",
    "tmdb.api_key = '3163424ed866819ce9c06db3ad13497e'"
   ]
  },
  {
   "cell_type": "code",
   "execution_count": 9,
   "metadata": {},
   "outputs": [],
   "source": [
    "from tmdbv3api import Movie\n",
    "tmdb_movie = Movie()\n",
    "def get_genre(x):\n",
    "    genres = []\n",
    "    result = tmdb_movie.search(x)\n",
    "    movie_id = result[0].id\n",
    "    response = requests.get('https://api.themoviedb.org/3/movie/{}?api_key={}'.format(movie_id,tmdb.api_key))\n",
    "    data_json = response.json()\n",
    "    if data_json['genres']:\n",
    "        genre_str = \" \" \n",
    "        for i in range(0,len(data_json['genres'])):\n",
    "            if data_json['genres'][i]['name'] == 'TV Movie':\n",
    "                continue\n",
    "            else:\n",
    "                genres.append(data_json['genres'][i]['name'])\n",
    "        return genre_str.join(genres)\n",
    "    else:\n",
    "        np.NaN"
   ]
  },
  {
   "cell_type": "code",
   "execution_count": 10,
   "metadata": {},
   "outputs": [],
   "source": [
    "df['genres'] = df['Title'].map(lambda x: get_genre(str(x)))"
   ]
  },
  {
   "cell_type": "code",
   "execution_count": 11,
   "metadata": {},
   "outputs": [
    {
     "data": {
      "text/html": [
       "<div>\n",
       "<style scoped>\n",
       "    .dataframe tbody tr th:only-of-type {\n",
       "        vertical-align: middle;\n",
       "    }\n",
       "\n",
       "    .dataframe tbody tr th {\n",
       "        vertical-align: top;\n",
       "    }\n",
       "\n",
       "    .dataframe thead th {\n",
       "        text-align: right;\n",
       "    }\n",
       "</style>\n",
       "<table border=\"1\" class=\"dataframe\">\n",
       "  <thead>\n",
       "    <tr style=\"text-align: right;\">\n",
       "      <th></th>\n",
       "      <th>Opening</th>\n",
       "      <th>Opening.1</th>\n",
       "      <th>Title</th>\n",
       "      <th>Production company</th>\n",
       "      <th>Cast and crew</th>\n",
       "      <th>Ref.</th>\n",
       "      <th>Unnamed: 6</th>\n",
       "      <th>genres</th>\n",
       "    </tr>\n",
       "  </thead>\n",
       "  <tbody>\n",
       "    <tr>\n",
       "      <th>0</th>\n",
       "      <td>JANUARY</td>\n",
       "      <td>5</td>\n",
       "      <td>Insidious: The Last Key</td>\n",
       "      <td>Universal Pictures / Blumhouse Productions / S...</td>\n",
       "      <td>Adam Robitel (director); Leigh Whannell (scree...</td>\n",
       "      <td>[2]</td>\n",
       "      <td>NaN</td>\n",
       "      <td>Mystery Horror Thriller</td>\n",
       "    </tr>\n",
       "    <tr>\n",
       "      <th>1</th>\n",
       "      <td>JANUARY</td>\n",
       "      <td>5</td>\n",
       "      <td>The Strange Ones</td>\n",
       "      <td>Vertical Entertainment</td>\n",
       "      <td>Lauren Wolkstein (director); Christopher Radcl...</td>\n",
       "      <td>[3]</td>\n",
       "      <td>NaN</td>\n",
       "      <td>Thriller Drama</td>\n",
       "    </tr>\n",
       "  </tbody>\n",
       "</table>\n",
       "</div>"
      ],
      "text/plain": [
       "   Opening Opening.1                    Title  \\\n",
       "0  JANUARY         5  Insidious: The Last Key   \n",
       "1  JANUARY         5         The Strange Ones   \n",
       "\n",
       "                                  Production company  \\\n",
       "0  Universal Pictures / Blumhouse Productions / S...   \n",
       "1                             Vertical Entertainment   \n",
       "\n",
       "                                       Cast and crew Ref. Unnamed: 6  \\\n",
       "0  Adam Robitel (director); Leigh Whannell (scree...  [2]        NaN   \n",
       "1  Lauren Wolkstein (director); Christopher Radcl...  [3]        NaN   \n",
       "\n",
       "                    genres  \n",
       "0  Mystery Horror Thriller  \n",
       "1           Thriller Drama  "
      ]
     },
     "execution_count": 11,
     "metadata": {},
     "output_type": "execute_result"
    }
   ],
   "source": [
    "df.head(2)"
   ]
  },
  {
   "cell_type": "code",
   "execution_count": 12,
   "metadata": {},
   "outputs": [
    {
     "data": {
      "text/html": [
       "<div>\n",
       "<style scoped>\n",
       "    .dataframe tbody tr th:only-of-type {\n",
       "        vertical-align: middle;\n",
       "    }\n",
       "\n",
       "    .dataframe tbody tr th {\n",
       "        vertical-align: top;\n",
       "    }\n",
       "\n",
       "    .dataframe thead th {\n",
       "        text-align: right;\n",
       "    }\n",
       "</style>\n",
       "<table border=\"1\" class=\"dataframe\">\n",
       "  <thead>\n",
       "    <tr style=\"text-align: right;\">\n",
       "      <th></th>\n",
       "      <th>Title</th>\n",
       "      <th>Cast and crew</th>\n",
       "      <th>genres</th>\n",
       "    </tr>\n",
       "  </thead>\n",
       "  <tbody>\n",
       "    <tr>\n",
       "      <th>0</th>\n",
       "      <td>Insidious: The Last Key</td>\n",
       "      <td>Adam Robitel (director); Leigh Whannell (scree...</td>\n",
       "      <td>Mystery Horror Thriller</td>\n",
       "    </tr>\n",
       "    <tr>\n",
       "      <th>1</th>\n",
       "      <td>The Strange Ones</td>\n",
       "      <td>Lauren Wolkstein (director); Christopher Radcl...</td>\n",
       "      <td>Thriller Drama</td>\n",
       "    </tr>\n",
       "    <tr>\n",
       "      <th>2</th>\n",
       "      <td>Stratton</td>\n",
       "      <td>Simon West (director); Duncan Falconer, Warren...</td>\n",
       "      <td>Action Thriller</td>\n",
       "    </tr>\n",
       "    <tr>\n",
       "      <th>3</th>\n",
       "      <td>Sweet Country</td>\n",
       "      <td>Warwick Thornton (director); David Tranter, St...</td>\n",
       "      <td>Drama History Western</td>\n",
       "    </tr>\n",
       "    <tr>\n",
       "      <th>4</th>\n",
       "      <td>The Commuter</td>\n",
       "      <td>Jaume Collet-Serra (director); Byron Willinger...</td>\n",
       "      <td>Action Thriller</td>\n",
       "    </tr>\n",
       "  </tbody>\n",
       "</table>\n",
       "</div>"
      ],
      "text/plain": [
       "                     Title                                      Cast and crew  \\\n",
       "0  Insidious: The Last Key  Adam Robitel (director); Leigh Whannell (scree...   \n",
       "1         The Strange Ones  Lauren Wolkstein (director); Christopher Radcl...   \n",
       "2                 Stratton  Simon West (director); Duncan Falconer, Warren...   \n",
       "3            Sweet Country  Warwick Thornton (director); David Tranter, St...   \n",
       "4             The Commuter  Jaume Collet-Serra (director); Byron Willinger...   \n",
       "\n",
       "                    genres  \n",
       "0  Mystery Horror Thriller  \n",
       "1           Thriller Drama  \n",
       "2          Action Thriller  \n",
       "3    Drama History Western  \n",
       "4          Action Thriller  "
      ]
     },
     "execution_count": 12,
     "metadata": {},
     "output_type": "execute_result"
    }
   ],
   "source": [
    "df_2018 = df[['Title','Cast and crew','genres']]\n",
    "df_2018.head()"
   ]
  },
  {
   "cell_type": "code",
   "execution_count": 13,
   "metadata": {},
   "outputs": [
    {
     "name": "stdout",
     "output_type": "stream",
     "text": [
      "['Mystery', 'Horror', 'Thriller', 'Drama', 'Action', 'History', 'Western', 'Crime', 'Comedy', 'Fantasy', 'Adventure', 'Animation', 'War', 'Romance', 'Music', 'Science', 'Fiction', 'Family', ' ', 'Documentary']\n"
     ]
    }
   ],
   "source": [
    "g = []\n",
    "for i in df_2018.genres:\n",
    "    w = []\n",
    "    try:\n",
    "        w = i.split(' ')\n",
    "    except:\n",
    "        w.append(' ')\n",
    "    for j in w:\n",
    "        if j not in g:\n",
    "            g.append(j)\n",
    "print(g)"
   ]
  },
  {
   "cell_type": "code",
   "execution_count": 14,
   "metadata": {},
   "outputs": [],
   "source": [
    "def get_director(x):\n",
    "    return x.split(' (director')[0]"
   ]
  },
  {
   "cell_type": "code",
   "execution_count": 15,
   "metadata": {},
   "outputs": [],
   "source": [
    "def get_actor1(x):\n",
    "    return (x.split('screenplay); ')[-1]).split(', ')[0]\n",
    "\n",
    "\n",
    "def get_actor2(x):\n",
    "    if len((x.split(\"screenplay); \")[-1]).split(\", \")) < 2:\n",
    "        return (' ')\n",
    "    else:\n",
    "        return ((x.split(\"screenplay); \")[-1]).split(\", \")[1])\n",
    "        \n",
    "           \n",
    "def get_actor3(x):\n",
    "    if len((x.split(\"screenplay); \")[-1]).split(\", \")) < 3:\n",
    "        return (' ')\n",
    "    else:\n",
    "        return ((x.split(\"screenplay); \")[-1]).split(\", \")[2])"
   ]
  },
  {
   "cell_type": "code",
   "execution_count": 16,
   "metadata": {
    "scrolled": true
   },
   "outputs": [
    {
     "data": {
      "text/html": [
       "<div>\n",
       "<style scoped>\n",
       "    .dataframe tbody tr th:only-of-type {\n",
       "        vertical-align: middle;\n",
       "    }\n",
       "\n",
       "    .dataframe tbody tr th {\n",
       "        vertical-align: top;\n",
       "    }\n",
       "\n",
       "    .dataframe thead th {\n",
       "        text-align: right;\n",
       "    }\n",
       "</style>\n",
       "<table border=\"1\" class=\"dataframe\">\n",
       "  <thead>\n",
       "    <tr style=\"text-align: right;\">\n",
       "      <th></th>\n",
       "      <th>Title</th>\n",
       "      <th>Cast and crew</th>\n",
       "      <th>genres</th>\n",
       "      <th>actor_1_name</th>\n",
       "      <th>actor_2_name</th>\n",
       "      <th>actor_3_name</th>\n",
       "      <th>director_name</th>\n",
       "    </tr>\n",
       "  </thead>\n",
       "  <tbody>\n",
       "    <tr>\n",
       "      <th>0</th>\n",
       "      <td>Insidious: The Last Key</td>\n",
       "      <td>Adam Robitel (director); Leigh Whannell (scree...</td>\n",
       "      <td>Mystery Horror Thriller</td>\n",
       "      <td>Lin Shaye</td>\n",
       "      <td>Angus Sampson</td>\n",
       "      <td>Leigh Whannell</td>\n",
       "      <td>Adam Robitel</td>\n",
       "    </tr>\n",
       "    <tr>\n",
       "      <th>1</th>\n",
       "      <td>The Strange Ones</td>\n",
       "      <td>Lauren Wolkstein (director); Christopher Radcl...</td>\n",
       "      <td>Thriller Drama</td>\n",
       "      <td>Alex Pettyfer</td>\n",
       "      <td>James Freedson-Jackson</td>\n",
       "      <td>Emily Althaus</td>\n",
       "      <td>Lauren Wolkstein</td>\n",
       "    </tr>\n",
       "    <tr>\n",
       "      <th>2</th>\n",
       "      <td>Stratton</td>\n",
       "      <td>Simon West (director); Duncan Falconer, Warren...</td>\n",
       "      <td>Action Thriller</td>\n",
       "      <td>Dominic Cooper</td>\n",
       "      <td>Austin Stowell</td>\n",
       "      <td>Gemma Chan</td>\n",
       "      <td>Simon West</td>\n",
       "    </tr>\n",
       "    <tr>\n",
       "      <th>3</th>\n",
       "      <td>Sweet Country</td>\n",
       "      <td>Warwick Thornton (director); David Tranter, St...</td>\n",
       "      <td>Drama History Western</td>\n",
       "      <td>Bryan Brown</td>\n",
       "      <td>Sam Neill</td>\n",
       "      <td></td>\n",
       "      <td>Warwick Thornton</td>\n",
       "    </tr>\n",
       "    <tr>\n",
       "      <th>4</th>\n",
       "      <td>The Commuter</td>\n",
       "      <td>Jaume Collet-Serra (director); Byron Willinger...</td>\n",
       "      <td>Action Thriller</td>\n",
       "      <td>Liam Neeson</td>\n",
       "      <td>Vera Farmiga</td>\n",
       "      <td>Patrick Wilson</td>\n",
       "      <td>Jaume Collet-Serra</td>\n",
       "    </tr>\n",
       "  </tbody>\n",
       "</table>\n",
       "</div>"
      ],
      "text/plain": [
       "                     Title                                      Cast and crew  \\\n",
       "0  Insidious: The Last Key  Adam Robitel (director); Leigh Whannell (scree...   \n",
       "1         The Strange Ones  Lauren Wolkstein (director); Christopher Radcl...   \n",
       "2                 Stratton  Simon West (director); Duncan Falconer, Warren...   \n",
       "3            Sweet Country  Warwick Thornton (director); David Tranter, St...   \n",
       "4             The Commuter  Jaume Collet-Serra (director); Byron Willinger...   \n",
       "\n",
       "                    genres    actor_1_name            actor_2_name  \\\n",
       "0  Mystery Horror Thriller       Lin Shaye           Angus Sampson   \n",
       "1           Thriller Drama   Alex Pettyfer  James Freedson-Jackson   \n",
       "2          Action Thriller  Dominic Cooper          Austin Stowell   \n",
       "3    Drama History Western     Bryan Brown               Sam Neill   \n",
       "4          Action Thriller     Liam Neeson            Vera Farmiga   \n",
       "\n",
       "     actor_3_name       director_name  \n",
       "0  Leigh Whannell        Adam Robitel  \n",
       "1   Emily Althaus    Lauren Wolkstein  \n",
       "2      Gemma Chan          Simon West  \n",
       "3                    Warwick Thornton  \n",
       "4  Patrick Wilson  Jaume Collet-Serra  "
      ]
     },
     "execution_count": 16,
     "metadata": {},
     "output_type": "execute_result"
    }
   ],
   "source": [
    "df_2018['actor_1_name'] = df_2018['Cast and crew'].map(lambda x:get_actor1(x))\n",
    "df_2018['actor_2_name'] = df_2018['Cast and crew'].map(lambda x:get_actor2(x))\n",
    "df_2018['actor_3_name'] = df_2018['Cast and crew'].map(lambda x:get_actor3(x))\n",
    "df_2018['director_name'] = df_2018['Cast and crew'].map(lambda x:get_director(x))\n",
    "df_2018.head()"
   ]
  },
  {
   "cell_type": "markdown",
   "metadata": {},
   "source": [
    "movie_title\tdirector_name\tactor_1_name\tactor_2_name\tactor_3_name\tgenres\tcombined"
   ]
  },
  {
   "cell_type": "code",
   "execution_count": 17,
   "metadata": {},
   "outputs": [],
   "source": [
    "df_2018 = df_2018.rename(columns={'Title':'movie_title', })\n",
    "df_2018.drop('Cast and crew',axis=1,inplace=True)\n",
    "df_2018 = df_2018.apply(lambda x: x.str.lower())\n",
    "# df_2018.head(2)"
   ]
  },
  {
   "cell_type": "code",
   "execution_count": 18,
   "metadata": {},
   "outputs": [],
   "source": [
    "df_2018['combined'] = df_2018.director_name +' '+ df_2018.actor_1_name + ' ' + df_2018.actor_2_name + ' ' + df_2018.actor_3_name + ' ' + df_2018.genres"
   ]
  },
  {
   "cell_type": "code",
   "execution_count": 19,
   "metadata": {},
   "outputs": [],
   "source": [
    "new_df18 = df_2018[['movie_title','director_name', 'actor_1_name', 'actor_2_name', 'actor_3_name', 'genres', 'combined']]"
   ]
  },
  {
   "cell_type": "code",
   "execution_count": 20,
   "metadata": {},
   "outputs": [
    {
     "data": {
      "text/html": [
       "<div>\n",
       "<style scoped>\n",
       "    .dataframe tbody tr th:only-of-type {\n",
       "        vertical-align: middle;\n",
       "    }\n",
       "\n",
       "    .dataframe tbody tr th {\n",
       "        vertical-align: top;\n",
       "    }\n",
       "\n",
       "    .dataframe thead th {\n",
       "        text-align: right;\n",
       "    }\n",
       "</style>\n",
       "<table border=\"1\" class=\"dataframe\">\n",
       "  <thead>\n",
       "    <tr style=\"text-align: right;\">\n",
       "      <th></th>\n",
       "      <th>movie_title</th>\n",
       "      <th>director_name</th>\n",
       "      <th>actor_1_name</th>\n",
       "      <th>actor_2_name</th>\n",
       "      <th>actor_3_name</th>\n",
       "      <th>genres</th>\n",
       "      <th>combined</th>\n",
       "    </tr>\n",
       "  </thead>\n",
       "  <tbody>\n",
       "    <tr>\n",
       "      <th>0</th>\n",
       "      <td>insidious: the last key</td>\n",
       "      <td>adam robitel</td>\n",
       "      <td>lin shaye</td>\n",
       "      <td>angus sampson</td>\n",
       "      <td>leigh whannell</td>\n",
       "      <td>mystery horror thriller</td>\n",
       "      <td>adam robitel lin shaye angus sampson leigh wha...</td>\n",
       "    </tr>\n",
       "    <tr>\n",
       "      <th>1</th>\n",
       "      <td>the strange ones</td>\n",
       "      <td>lauren wolkstein</td>\n",
       "      <td>alex pettyfer</td>\n",
       "      <td>james freedson-jackson</td>\n",
       "      <td>emily althaus</td>\n",
       "      <td>thriller drama</td>\n",
       "      <td>lauren wolkstein alex pettyfer james freedson-...</td>\n",
       "    </tr>\n",
       "  </tbody>\n",
       "</table>\n",
       "</div>"
      ],
      "text/plain": [
       "               movie_title     director_name   actor_1_name  \\\n",
       "0  insidious: the last key      adam robitel      lin shaye   \n",
       "1         the strange ones  lauren wolkstein  alex pettyfer   \n",
       "\n",
       "             actor_2_name    actor_3_name                   genres  \\\n",
       "0           angus sampson  leigh whannell  mystery horror thriller   \n",
       "1  james freedson-jackson   emily althaus           thriller drama   \n",
       "\n",
       "                                            combined  \n",
       "0  adam robitel lin shaye angus sampson leigh wha...  \n",
       "1  lauren wolkstein alex pettyfer james freedson-...  "
      ]
     },
     "execution_count": 20,
     "metadata": {},
     "output_type": "execute_result"
    }
   ],
   "source": [
    "new_df18.head(2)"
   ]
  },
  {
   "cell_type": "markdown",
   "metadata": {},
   "source": [
    "## ///////////////////"
   ]
  },
  {
   "cell_type": "markdown",
   "metadata": {},
   "source": [
    "#                                         2019"
   ]
  },
  {
   "cell_type": "markdown",
   "metadata": {},
   "source": [
    "## //////////////"
   ]
  },
  {
   "cell_type": "code",
   "execution_count": 21,
   "metadata": {},
   "outputs": [],
   "source": [
    "link = \"https://en.wikipedia.org/wiki/List_of_American_films_of_2019\"\n",
    "df1 = pd.read_html(link, header=0)[3]\n",
    "df2 = pd.read_html(link, header=0)[4]\n",
    "df3 = pd.read_html(link, header=0)[5]\n",
    "df4 = pd.read_html(link, header=0)[6]"
   ]
  },
  {
   "cell_type": "code",
   "execution_count": 22,
   "metadata": {},
   "outputs": [],
   "source": [
    "dff = df1.append(df2.append(df3.append(df4,ignore_index=True),ignore_index=True),ignore_index=True)"
   ]
  },
  {
   "cell_type": "code",
   "execution_count": 23,
   "metadata": {},
   "outputs": [
    {
     "data": {
      "text/html": [
       "<div>\n",
       "<style scoped>\n",
       "    .dataframe tbody tr th:only-of-type {\n",
       "        vertical-align: middle;\n",
       "    }\n",
       "\n",
       "    .dataframe tbody tr th {\n",
       "        vertical-align: top;\n",
       "    }\n",
       "\n",
       "    .dataframe thead th {\n",
       "        text-align: right;\n",
       "    }\n",
       "</style>\n",
       "<table border=\"1\" class=\"dataframe\">\n",
       "  <thead>\n",
       "    <tr style=\"text-align: right;\">\n",
       "      <th></th>\n",
       "      <th>Opening</th>\n",
       "      <th>Opening.1</th>\n",
       "      <th>Title</th>\n",
       "      <th>Production company</th>\n",
       "      <th>Cast and crew</th>\n",
       "      <th>Ref.</th>\n",
       "    </tr>\n",
       "  </thead>\n",
       "  <tbody>\n",
       "    <tr>\n",
       "      <th>0</th>\n",
       "      <td>NaN</td>\n",
       "      <td>4</td>\n",
       "      <td>Escape Room</td>\n",
       "      <td>Columbia Pictures</td>\n",
       "      <td>Adam Robitel (director); Bragi F. Schut, Maria...</td>\n",
       "      <td>[2]</td>\n",
       "    </tr>\n",
       "    <tr>\n",
       "      <th>1</th>\n",
       "      <td>NaN</td>\n",
       "      <td>4</td>\n",
       "      <td>Rust Creek</td>\n",
       "      <td>IFC Films</td>\n",
       "      <td>Jen McGowan (director); Julie Lipson (screenpl...</td>\n",
       "      <td>[3]</td>\n",
       "    </tr>\n",
       "  </tbody>\n",
       "</table>\n",
       "</div>"
      ],
      "text/plain": [
       "  Opening  Opening.1        Title Production company  \\\n",
       "0     NaN          4  Escape Room  Columbia Pictures   \n",
       "1     NaN          4   Rust Creek          IFC Films   \n",
       "\n",
       "                                       Cast and crew Ref.  \n",
       "0  Adam Robitel (director); Bragi F. Schut, Maria...  [2]  \n",
       "1  Jen McGowan (director); Julie Lipson (screenpl...  [3]  "
      ]
     },
     "execution_count": 23,
     "metadata": {},
     "output_type": "execute_result"
    }
   ],
   "source": [
    "dff.head(2)"
   ]
  },
  {
   "cell_type": "code",
   "execution_count": 24,
   "metadata": {},
   "outputs": [],
   "source": [
    "dff['genres'] = dff['Title'].map(lambda x: get_genre(str(x)))"
   ]
  },
  {
   "cell_type": "code",
   "execution_count": 25,
   "metadata": {},
   "outputs": [
    {
     "data": {
      "text/html": [
       "<div>\n",
       "<style scoped>\n",
       "    .dataframe tbody tr th:only-of-type {\n",
       "        vertical-align: middle;\n",
       "    }\n",
       "\n",
       "    .dataframe tbody tr th {\n",
       "        vertical-align: top;\n",
       "    }\n",
       "\n",
       "    .dataframe thead th {\n",
       "        text-align: right;\n",
       "    }\n",
       "</style>\n",
       "<table border=\"1\" class=\"dataframe\">\n",
       "  <thead>\n",
       "    <tr style=\"text-align: right;\">\n",
       "      <th></th>\n",
       "      <th>Title</th>\n",
       "      <th>Cast and crew</th>\n",
       "      <th>genres</th>\n",
       "    </tr>\n",
       "  </thead>\n",
       "  <tbody>\n",
       "    <tr>\n",
       "      <th>0</th>\n",
       "      <td>Escape Room</td>\n",
       "      <td>Adam Robitel (director); Bragi F. Schut, Maria...</td>\n",
       "      <td>Thriller Action Mystery Adventure Horror</td>\n",
       "    </tr>\n",
       "    <tr>\n",
       "      <th>1</th>\n",
       "      <td>Rust Creek</td>\n",
       "      <td>Jen McGowan (director); Julie Lipson (screenpl...</td>\n",
       "      <td>Thriller Drama</td>\n",
       "    </tr>\n",
       "  </tbody>\n",
       "</table>\n",
       "</div>"
      ],
      "text/plain": [
       "         Title                                      Cast and crew  \\\n",
       "0  Escape Room  Adam Robitel (director); Bragi F. Schut, Maria...   \n",
       "1   Rust Creek  Jen McGowan (director); Julie Lipson (screenpl...   \n",
       "\n",
       "                                     genres  \n",
       "0  Thriller Action Mystery Adventure Horror  \n",
       "1                            Thriller Drama  "
      ]
     },
     "execution_count": 25,
     "metadata": {},
     "output_type": "execute_result"
    }
   ],
   "source": [
    "df_2019 = dff[['Title','Cast and crew','genres']]\n",
    "df_2019.head(2)"
   ]
  },
  {
   "cell_type": "code",
   "execution_count": 26,
   "metadata": {},
   "outputs": [
    {
     "data": {
      "text/html": [
       "<div>\n",
       "<style scoped>\n",
       "    .dataframe tbody tr th:only-of-type {\n",
       "        vertical-align: middle;\n",
       "    }\n",
       "\n",
       "    .dataframe tbody tr th {\n",
       "        vertical-align: top;\n",
       "    }\n",
       "\n",
       "    .dataframe thead th {\n",
       "        text-align: right;\n",
       "    }\n",
       "</style>\n",
       "<table border=\"1\" class=\"dataframe\">\n",
       "  <thead>\n",
       "    <tr style=\"text-align: right;\">\n",
       "      <th></th>\n",
       "      <th>Title</th>\n",
       "      <th>Cast and crew</th>\n",
       "      <th>genres</th>\n",
       "    </tr>\n",
       "  </thead>\n",
       "  <tbody>\n",
       "  </tbody>\n",
       "</table>\n",
       "</div>"
      ],
      "text/plain": [
       "Empty DataFrame\n",
       "Columns: [Title, Cast and crew, genres]\n",
       "Index: []"
      ]
     },
     "execution_count": 26,
     "metadata": {},
     "output_type": "execute_result"
    }
   ],
   "source": [
    "df_2019[df_2019['Title']=='insidious: the last key']"
   ]
  },
  {
   "cell_type": "code",
   "execution_count": 27,
   "metadata": {},
   "outputs": [],
   "source": [
    "# df_2019['Cast and crew']"
   ]
  },
  {
   "cell_type": "code",
   "execution_count": 28,
   "metadata": {},
   "outputs": [
    {
     "data": {
      "text/html": [
       "<div>\n",
       "<style scoped>\n",
       "    .dataframe tbody tr th:only-of-type {\n",
       "        vertical-align: middle;\n",
       "    }\n",
       "\n",
       "    .dataframe tbody tr th {\n",
       "        vertical-align: top;\n",
       "    }\n",
       "\n",
       "    .dataframe thead th {\n",
       "        text-align: right;\n",
       "    }\n",
       "</style>\n",
       "<table border=\"1\" class=\"dataframe\">\n",
       "  <thead>\n",
       "    <tr style=\"text-align: right;\">\n",
       "      <th></th>\n",
       "      <th>Title</th>\n",
       "      <th>Cast and crew</th>\n",
       "      <th>genres</th>\n",
       "      <th>actor_1_name</th>\n",
       "      <th>actor_2_name</th>\n",
       "      <th>actor_3_name</th>\n",
       "      <th>director_name</th>\n",
       "    </tr>\n",
       "  </thead>\n",
       "  <tbody>\n",
       "    <tr>\n",
       "      <th>0</th>\n",
       "      <td>Escape Room</td>\n",
       "      <td>Adam Robitel (director); Bragi F. Schut, Maria...</td>\n",
       "      <td>Thriller Action Mystery Adventure Horror</td>\n",
       "      <td>Taylor Russell</td>\n",
       "      <td>Logan Miller</td>\n",
       "      <td>Deborah Ann Woll</td>\n",
       "      <td>Adam Robitel</td>\n",
       "    </tr>\n",
       "    <tr>\n",
       "      <th>1</th>\n",
       "      <td>Rust Creek</td>\n",
       "      <td>Jen McGowan (director); Julie Lipson (screenpl...</td>\n",
       "      <td>Thriller Drama</td>\n",
       "      <td>Hermione Corfield</td>\n",
       "      <td>Jay Paulson</td>\n",
       "      <td>Sean O'Bryan</td>\n",
       "      <td>Jen McGowan</td>\n",
       "    </tr>\n",
       "    <tr>\n",
       "      <th>2</th>\n",
       "      <td>American Hangman</td>\n",
       "      <td>Wilson Coneybeare (director/screenplay); Donal...</td>\n",
       "      <td>Thriller</td>\n",
       "      <td>Donald Sutherland</td>\n",
       "      <td>Vincent Kartheiser</td>\n",
       "      <td>Oliver Dennis</td>\n",
       "      <td>Wilson Coneybeare</td>\n",
       "    </tr>\n",
       "    <tr>\n",
       "      <th>3</th>\n",
       "      <td>A Dog's Way Home</td>\n",
       "      <td>Charles Martin Smith (director); W. Bruce Came...</td>\n",
       "      <td>Drama Adventure Family</td>\n",
       "      <td>Bryce Dallas Howard</td>\n",
       "      <td>Edward James Olmos</td>\n",
       "      <td>Alexandra Shipp</td>\n",
       "      <td>Charles Martin Smith</td>\n",
       "    </tr>\n",
       "    <tr>\n",
       "      <th>4</th>\n",
       "      <td>The Upside</td>\n",
       "      <td>Neil Burger (director); Jon Hartmere (screenpl...</td>\n",
       "      <td>Comedy Drama</td>\n",
       "      <td>Bryan Cranston</td>\n",
       "      <td>Kevin Hart</td>\n",
       "      <td>Nicole Kidman</td>\n",
       "      <td>Neil Burger</td>\n",
       "    </tr>\n",
       "  </tbody>\n",
       "</table>\n",
       "</div>"
      ],
      "text/plain": [
       "              Title                                      Cast and crew  \\\n",
       "0       Escape Room  Adam Robitel (director); Bragi F. Schut, Maria...   \n",
       "1        Rust Creek  Jen McGowan (director); Julie Lipson (screenpl...   \n",
       "2  American Hangman  Wilson Coneybeare (director/screenplay); Donal...   \n",
       "3  A Dog's Way Home  Charles Martin Smith (director); W. Bruce Came...   \n",
       "4        The Upside  Neil Burger (director); Jon Hartmere (screenpl...   \n",
       "\n",
       "                                     genres         actor_1_name  \\\n",
       "0  Thriller Action Mystery Adventure Horror       Taylor Russell   \n",
       "1                            Thriller Drama    Hermione Corfield   \n",
       "2                                  Thriller    Donald Sutherland   \n",
       "3                    Drama Adventure Family  Bryce Dallas Howard   \n",
       "4                              Comedy Drama       Bryan Cranston   \n",
       "\n",
       "         actor_2_name      actor_3_name         director_name  \n",
       "0        Logan Miller  Deborah Ann Woll          Adam Robitel  \n",
       "1         Jay Paulson      Sean O'Bryan           Jen McGowan  \n",
       "2  Vincent Kartheiser     Oliver Dennis     Wilson Coneybeare  \n",
       "3  Edward James Olmos   Alexandra Shipp  Charles Martin Smith  \n",
       "4          Kevin Hart     Nicole Kidman           Neil Burger  "
      ]
     },
     "execution_count": 28,
     "metadata": {},
     "output_type": "execute_result"
    }
   ],
   "source": [
    "df_2019['actor_1_name'] = df_2019['Cast and crew'].map(lambda x:get_actor1(x))\n",
    "df_2019['actor_2_name'] = df_2019['Cast and crew'].map(lambda x:get_actor2(x))\n",
    "df_2019['actor_3_name'] = df_2019['Cast and crew'].map(lambda x:get_actor3(x))\n",
    "df_2019['director_name'] = df_2019['Cast and crew'].map(lambda x:get_director(x))\n",
    "df_2019.head()"
   ]
  },
  {
   "cell_type": "code",
   "execution_count": 29,
   "metadata": {},
   "outputs": [],
   "source": [
    "# df_2019.drop('Cast and crew',axis=1,inplace=True)"
   ]
  },
  {
   "cell_type": "code",
   "execution_count": 30,
   "metadata": {},
   "outputs": [],
   "source": [
    "df_2019 = df_2019.apply(lambda x:x.str.lower())\n",
    "df_2019 = df_2019.rename(columns={'Title':'movie_title'})"
   ]
  },
  {
   "cell_type": "code",
   "execution_count": 31,
   "metadata": {},
   "outputs": [
    {
     "data": {
      "text/html": [
       "<div>\n",
       "<style scoped>\n",
       "    .dataframe tbody tr th:only-of-type {\n",
       "        vertical-align: middle;\n",
       "    }\n",
       "\n",
       "    .dataframe tbody tr th {\n",
       "        vertical-align: top;\n",
       "    }\n",
       "\n",
       "    .dataframe thead th {\n",
       "        text-align: right;\n",
       "    }\n",
       "</style>\n",
       "<table border=\"1\" class=\"dataframe\">\n",
       "  <thead>\n",
       "    <tr style=\"text-align: right;\">\n",
       "      <th></th>\n",
       "      <th>movie_title</th>\n",
       "      <th>Cast and crew</th>\n",
       "      <th>genres</th>\n",
       "      <th>actor_1_name</th>\n",
       "      <th>actor_2_name</th>\n",
       "      <th>actor_3_name</th>\n",
       "      <th>director_name</th>\n",
       "    </tr>\n",
       "  </thead>\n",
       "  <tbody>\n",
       "  </tbody>\n",
       "</table>\n",
       "</div>"
      ],
      "text/plain": [
       "Empty DataFrame\n",
       "Columns: [movie_title, Cast and crew, genres, actor_1_name, actor_2_name, actor_3_name, director_name]\n",
       "Index: []"
      ]
     },
     "execution_count": 31,
     "metadata": {},
     "output_type": "execute_result"
    }
   ],
   "source": [
    "df_2019[df_2019['movie_title']=='insidious: the last key']"
   ]
  },
  {
   "cell_type": "code",
   "execution_count": 32,
   "metadata": {},
   "outputs": [],
   "source": [
    "df_2019['combined'] = df_2019.director_name +' '+ df_2019.actor_1_name + ' ' + df_2019.actor_2_name + ' ' + df_2019.actor_3_name + ' ' + df_2019.genres"
   ]
  },
  {
   "cell_type": "code",
   "execution_count": 33,
   "metadata": {},
   "outputs": [],
   "source": [
    "new_df19 = df_2019[['movie_title','director_name', 'actor_1_name', 'actor_2_name', 'actor_3_name', 'genres', 'combined']]"
   ]
  },
  {
   "cell_type": "code",
   "execution_count": 34,
   "metadata": {},
   "outputs": [
    {
     "data": {
      "text/html": [
       "<div>\n",
       "<style scoped>\n",
       "    .dataframe tbody tr th:only-of-type {\n",
       "        vertical-align: middle;\n",
       "    }\n",
       "\n",
       "    .dataframe tbody tr th {\n",
       "        vertical-align: top;\n",
       "    }\n",
       "\n",
       "    .dataframe thead th {\n",
       "        text-align: right;\n",
       "    }\n",
       "</style>\n",
       "<table border=\"1\" class=\"dataframe\">\n",
       "  <thead>\n",
       "    <tr style=\"text-align: right;\">\n",
       "      <th></th>\n",
       "      <th>movie_title</th>\n",
       "      <th>director_name</th>\n",
       "      <th>actor_1_name</th>\n",
       "      <th>actor_2_name</th>\n",
       "      <th>actor_3_name</th>\n",
       "      <th>genres</th>\n",
       "      <th>combined</th>\n",
       "    </tr>\n",
       "  </thead>\n",
       "  <tbody>\n",
       "    <tr>\n",
       "      <th>0</th>\n",
       "      <td>escape room</td>\n",
       "      <td>adam robitel</td>\n",
       "      <td>taylor russell</td>\n",
       "      <td>logan miller</td>\n",
       "      <td>deborah ann woll</td>\n",
       "      <td>thriller action mystery adventure horror</td>\n",
       "      <td>adam robitel taylor russell logan miller debor...</td>\n",
       "    </tr>\n",
       "    <tr>\n",
       "      <th>1</th>\n",
       "      <td>rust creek</td>\n",
       "      <td>jen mcgowan</td>\n",
       "      <td>hermione corfield</td>\n",
       "      <td>jay paulson</td>\n",
       "      <td>sean o'bryan</td>\n",
       "      <td>thriller drama</td>\n",
       "      <td>jen mcgowan hermione corfield jay paulson sean...</td>\n",
       "    </tr>\n",
       "  </tbody>\n",
       "</table>\n",
       "</div>"
      ],
      "text/plain": [
       "   movie_title director_name       actor_1_name  actor_2_name  \\\n",
       "0  escape room  adam robitel     taylor russell  logan miller   \n",
       "1   rust creek   jen mcgowan  hermione corfield   jay paulson   \n",
       "\n",
       "       actor_3_name                                    genres  \\\n",
       "0  deborah ann woll  thriller action mystery adventure horror   \n",
       "1      sean o'bryan                            thriller drama   \n",
       "\n",
       "                                            combined  \n",
       "0  adam robitel taylor russell logan miller debor...  \n",
       "1  jen mcgowan hermione corfield jay paulson sean...  "
      ]
     },
     "execution_count": 34,
     "metadata": {},
     "output_type": "execute_result"
    }
   ],
   "source": [
    "new_df19.head(2)"
   ]
  },
  {
   "cell_type": "code",
   "execution_count": 35,
   "metadata": {},
   "outputs": [
    {
     "data": {
      "text/plain": [
       "movie_title      0\n",
       "director_name    0\n",
       "actor_1_name     0\n",
       "actor_2_name     0\n",
       "actor_3_name     0\n",
       "genres           3\n",
       "combined         3\n",
       "dtype: int64"
      ]
     },
     "execution_count": 35,
     "metadata": {},
     "output_type": "execute_result"
    }
   ],
   "source": [
    "new_df18.isna().sum()"
   ]
  },
  {
   "cell_type": "code",
   "execution_count": 36,
   "metadata": {},
   "outputs": [
    {
     "data": {
      "text/plain": [
       "movie_title      0\n",
       "director_name    0\n",
       "actor_1_name     0\n",
       "actor_2_name     0\n",
       "actor_3_name     0\n",
       "genres           1\n",
       "combined         1\n",
       "dtype: int64"
      ]
     },
     "execution_count": 36,
     "metadata": {},
     "output_type": "execute_result"
    }
   ],
   "source": [
    "new_df19.isna().sum()"
   ]
  },
  {
   "cell_type": "code",
   "execution_count": 37,
   "metadata": {},
   "outputs": [],
   "source": [
    "my_df = new_df18.append(new_df19,ignore_index=True)"
   ]
  },
  {
   "cell_type": "code",
   "execution_count": 38,
   "metadata": {},
   "outputs": [
    {
     "data": {
      "text/plain": [
       "movie_title      0\n",
       "director_name    0\n",
       "actor_1_name     0\n",
       "actor_2_name     0\n",
       "actor_3_name     0\n",
       "genres           4\n",
       "combined         4\n",
       "dtype: int64"
      ]
     },
     "execution_count": 38,
     "metadata": {},
     "output_type": "execute_result"
    }
   ],
   "source": [
    "my_df.isnull().sum()"
   ]
  },
  {
   "cell_type": "code",
   "execution_count": 39,
   "metadata": {},
   "outputs": [
    {
     "data": {
      "text/plain": [
       "(508, 7)"
      ]
     },
     "execution_count": 39,
     "metadata": {},
     "output_type": "execute_result"
    }
   ],
   "source": [
    "my_df.shape"
   ]
  },
  {
   "cell_type": "markdown",
   "metadata": {},
   "source": [
    "## /////////////////////////\n",
    "#  2020\n",
    "## ///////////////////////"
   ]
  },
  {
   "cell_type": "code",
   "execution_count": 40,
   "metadata": {},
   "outputs": [
    {
     "data": {
      "text/html": [
       "<div>\n",
       "<style scoped>\n",
       "    .dataframe tbody tr th:only-of-type {\n",
       "        vertical-align: middle;\n",
       "    }\n",
       "\n",
       "    .dataframe tbody tr th {\n",
       "        vertical-align: top;\n",
       "    }\n",
       "\n",
       "    .dataframe thead th {\n",
       "        text-align: right;\n",
       "    }\n",
       "</style>\n",
       "<table border=\"1\" class=\"dataframe\">\n",
       "  <thead>\n",
       "    <tr style=\"text-align: right;\">\n",
       "      <th></th>\n",
       "      <th>Opening</th>\n",
       "      <th>Opening.1</th>\n",
       "      <th>Title</th>\n",
       "      <th>Production company</th>\n",
       "      <th>Cast and crew</th>\n",
       "      <th>Ref.</th>\n",
       "    </tr>\n",
       "  </thead>\n",
       "  <tbody>\n",
       "    <tr>\n",
       "      <th>0</th>\n",
       "      <td>JANUARY</td>\n",
       "      <td>3</td>\n",
       "      <td>The Grudge</td>\n",
       "      <td>Screen Gems / Stage 6 Films / Ghost House Pict...</td>\n",
       "      <td>Nicolas Pesce (director/screenplay); Andrea Ri...</td>\n",
       "      <td>[2]</td>\n",
       "    </tr>\n",
       "    <tr>\n",
       "      <th>1</th>\n",
       "      <td>JANUARY</td>\n",
       "      <td>10</td>\n",
       "      <td>Underwater</td>\n",
       "      <td>20th Century Fox / TSG Entertainment / Chernin...</td>\n",
       "      <td>William Eubank (director); Brian Duffield, Ada...</td>\n",
       "      <td>[3]</td>\n",
       "    </tr>\n",
       "  </tbody>\n",
       "</table>\n",
       "</div>"
      ],
      "text/plain": [
       "   Opening  Opening.1       Title  \\\n",
       "0  JANUARY          3  The Grudge   \n",
       "1  JANUARY         10  Underwater   \n",
       "\n",
       "                                  Production company  \\\n",
       "0  Screen Gems / Stage 6 Films / Ghost House Pict...   \n",
       "1  20th Century Fox / TSG Entertainment / Chernin...   \n",
       "\n",
       "                                       Cast and crew Ref.  \n",
       "0  Nicolas Pesce (director/screenplay); Andrea Ri...  [2]  \n",
       "1  William Eubank (director); Brian Duffield, Ada...  [3]  "
      ]
     },
     "execution_count": 40,
     "metadata": {},
     "output_type": "execute_result"
    }
   ],
   "source": [
    "link = 'https://en.wikipedia.org/wiki/List_of_American_films_of_2020'\n",
    "df1 = pd.read_html(link,header=0)[3]\n",
    "df2 = pd.read_html(link,header=0)[4]\n",
    "df2 = pd.read_html(link,header=0)[5]\n",
    "df2 = pd.read_html(link,header=0)[6]\n",
    "df = df1.append(df2.append(df3.append(df4,ignore_index=True),ignore_index=True),ignore_index=True)\n",
    "df.head(2)"
   ]
  },
  {
   "cell_type": "code",
   "execution_count": 41,
   "metadata": {},
   "outputs": [],
   "source": [
    "df = df[['Title','Cast and crew']]"
   ]
  },
  {
   "cell_type": "code",
   "execution_count": 42,
   "metadata": {},
   "outputs": [],
   "source": [
    "df['genres'] = df['Title'].map(lambda x : get_genre(str(x)))"
   ]
  },
  {
   "cell_type": "code",
   "execution_count": 43,
   "metadata": {},
   "outputs": [
    {
     "data": {
      "text/html": [
       "<div>\n",
       "<style scoped>\n",
       "    .dataframe tbody tr th:only-of-type {\n",
       "        vertical-align: middle;\n",
       "    }\n",
       "\n",
       "    .dataframe tbody tr th {\n",
       "        vertical-align: top;\n",
       "    }\n",
       "\n",
       "    .dataframe thead th {\n",
       "        text-align: right;\n",
       "    }\n",
       "</style>\n",
       "<table border=\"1\" class=\"dataframe\">\n",
       "  <thead>\n",
       "    <tr style=\"text-align: right;\">\n",
       "      <th></th>\n",
       "      <th>Title</th>\n",
       "      <th>Cast and crew</th>\n",
       "      <th>genres</th>\n",
       "    </tr>\n",
       "  </thead>\n",
       "  <tbody>\n",
       "    <tr>\n",
       "      <th>0</th>\n",
       "      <td>The Grudge</td>\n",
       "      <td>Nicolas Pesce (director/screenplay); Andrea Ri...</td>\n",
       "      <td>Horror Mystery Thriller</td>\n",
       "    </tr>\n",
       "    <tr>\n",
       "      <th>1</th>\n",
       "      <td>Underwater</td>\n",
       "      <td>William Eubank (director); Brian Duffield, Ada...</td>\n",
       "      <td>Action Horror Science Fiction Thriller</td>\n",
       "    </tr>\n",
       "  </tbody>\n",
       "</table>\n",
       "</div>"
      ],
      "text/plain": [
       "        Title                                      Cast and crew  \\\n",
       "0  The Grudge  Nicolas Pesce (director/screenplay); Andrea Ri...   \n",
       "1  Underwater  William Eubank (director); Brian Duffield, Ada...   \n",
       "\n",
       "                                   genres  \n",
       "0                 Horror Mystery Thriller  \n",
       "1  Action Horror Science Fiction Thriller  "
      ]
     },
     "execution_count": 43,
     "metadata": {},
     "output_type": "execute_result"
    }
   ],
   "source": [
    "df.head(2)"
   ]
  },
  {
   "cell_type": "code",
   "execution_count": 44,
   "metadata": {},
   "outputs": [],
   "source": [
    "df.dropna(inplace=True)"
   ]
  },
  {
   "cell_type": "code",
   "execution_count": 45,
   "metadata": {},
   "outputs": [
    {
     "data": {
      "text/plain": [
       "Title            0\n",
       "Cast and crew    0\n",
       "genres           0\n",
       "dtype: int64"
      ]
     },
     "execution_count": 45,
     "metadata": {},
     "output_type": "execute_result"
    }
   ],
   "source": [
    "df.isna().sum()"
   ]
  },
  {
   "cell_type": "code",
   "execution_count": 46,
   "metadata": {},
   "outputs": [
    {
     "data": {
      "text/html": [
       "<div>\n",
       "<style scoped>\n",
       "    .dataframe tbody tr th:only-of-type {\n",
       "        vertical-align: middle;\n",
       "    }\n",
       "\n",
       "    .dataframe tbody tr th {\n",
       "        vertical-align: top;\n",
       "    }\n",
       "\n",
       "    .dataframe thead th {\n",
       "        text-align: right;\n",
       "    }\n",
       "</style>\n",
       "<table border=\"1\" class=\"dataframe\">\n",
       "  <thead>\n",
       "    <tr style=\"text-align: right;\">\n",
       "      <th></th>\n",
       "      <th>Title</th>\n",
       "      <th>Cast and crew</th>\n",
       "      <th>genres</th>\n",
       "      <th>actor_1_name</th>\n",
       "      <th>actor_2_name</th>\n",
       "      <th>actor_3_name</th>\n",
       "      <th>director_name</th>\n",
       "    </tr>\n",
       "  </thead>\n",
       "  <tbody>\n",
       "    <tr>\n",
       "      <th>0</th>\n",
       "      <td>The Grudge</td>\n",
       "      <td>Nicolas Pesce (director/screenplay); Andrea Ri...</td>\n",
       "      <td>Horror Mystery Thriller</td>\n",
       "      <td>Andrea Riseborough</td>\n",
       "      <td>Demián Bichir</td>\n",
       "      <td>John Cho</td>\n",
       "      <td>Nicolas Pesce</td>\n",
       "    </tr>\n",
       "    <tr>\n",
       "      <th>1</th>\n",
       "      <td>Underwater</td>\n",
       "      <td>William Eubank (director); Brian Duffield, Ada...</td>\n",
       "      <td>Action Horror Science Fiction Thriller</td>\n",
       "      <td>Kristen Stewart</td>\n",
       "      <td>Vincent Cassel</td>\n",
       "      <td>Jessica Henwick</td>\n",
       "      <td>William Eubank</td>\n",
       "    </tr>\n",
       "    <tr>\n",
       "      <th>2</th>\n",
       "      <td>Like a Boss</td>\n",
       "      <td>Miguel Arteta (director); Sam Pitman, Adam Col...</td>\n",
       "      <td>Comedy</td>\n",
       "      <td>Tiffany Haddish</td>\n",
       "      <td>Rose Byrne</td>\n",
       "      <td>Salma Hayek</td>\n",
       "      <td>Miguel Arteta</td>\n",
       "    </tr>\n",
       "    <tr>\n",
       "      <th>3</th>\n",
       "      <td>Inherit the Viper</td>\n",
       "      <td>Anthony Jerjen (director); Andrew Crabtree (sc...</td>\n",
       "      <td>Drama Thriller Crime</td>\n",
       "      <td>Josh Hartnett</td>\n",
       "      <td>Margarita Levieva</td>\n",
       "      <td>Chandler Riggs</td>\n",
       "      <td>Anthony Jerjen</td>\n",
       "    </tr>\n",
       "    <tr>\n",
       "      <th>4</th>\n",
       "      <td>The Sonata</td>\n",
       "      <td>Andrew Desmond (director/screenplay); Arthur M...</td>\n",
       "      <td>Horror Thriller Mystery</td>\n",
       "      <td>Freya Tingley</td>\n",
       "      <td>Simon Abkarian</td>\n",
       "      <td>Rutger Hauer</td>\n",
       "      <td>Andrew Desmond</td>\n",
       "    </tr>\n",
       "  </tbody>\n",
       "</table>\n",
       "</div>"
      ],
      "text/plain": [
       "               Title                                      Cast and crew  \\\n",
       "0         The Grudge  Nicolas Pesce (director/screenplay); Andrea Ri...   \n",
       "1         Underwater  William Eubank (director); Brian Duffield, Ada...   \n",
       "2        Like a Boss  Miguel Arteta (director); Sam Pitman, Adam Col...   \n",
       "3  Inherit the Viper  Anthony Jerjen (director); Andrew Crabtree (sc...   \n",
       "4         The Sonata  Andrew Desmond (director/screenplay); Arthur M...   \n",
       "\n",
       "                                   genres        actor_1_name  \\\n",
       "0                 Horror Mystery Thriller  Andrea Riseborough   \n",
       "1  Action Horror Science Fiction Thriller     Kristen Stewart   \n",
       "2                                  Comedy     Tiffany Haddish   \n",
       "3                    Drama Thriller Crime       Josh Hartnett   \n",
       "4                 Horror Thriller Mystery       Freya Tingley   \n",
       "\n",
       "        actor_2_name     actor_3_name   director_name  \n",
       "0      Demián Bichir         John Cho   Nicolas Pesce  \n",
       "1     Vincent Cassel  Jessica Henwick  William Eubank  \n",
       "2         Rose Byrne      Salma Hayek   Miguel Arteta  \n",
       "3  Margarita Levieva   Chandler Riggs  Anthony Jerjen  \n",
       "4     Simon Abkarian     Rutger Hauer  Andrew Desmond  "
      ]
     },
     "execution_count": 46,
     "metadata": {},
     "output_type": "execute_result"
    }
   ],
   "source": [
    "df['actor_1_name'] = df['Cast and crew'].map(lambda x:get_actor1(x))\n",
    "df['actor_2_name'] = df['Cast and crew'].map(lambda x:get_actor2(x))\n",
    "df['actor_3_name'] = df['Cast and crew'].map(lambda x:get_actor3(x))\n",
    "df['director_name'] = df['Cast and crew'].map(lambda x:get_director(x))\n",
    "df.head()"
   ]
  },
  {
   "cell_type": "code",
   "execution_count": 47,
   "metadata": {},
   "outputs": [
    {
     "data": {
      "text/html": [
       "<div>\n",
       "<style scoped>\n",
       "    .dataframe tbody tr th:only-of-type {\n",
       "        vertical-align: middle;\n",
       "    }\n",
       "\n",
       "    .dataframe tbody tr th {\n",
       "        vertical-align: top;\n",
       "    }\n",
       "\n",
       "    .dataframe thead th {\n",
       "        text-align: right;\n",
       "    }\n",
       "</style>\n",
       "<table border=\"1\" class=\"dataframe\">\n",
       "  <thead>\n",
       "    <tr style=\"text-align: right;\">\n",
       "      <th></th>\n",
       "      <th>Title</th>\n",
       "      <th>director_name</th>\n",
       "      <th>actor_1_name</th>\n",
       "      <th>actor_2_name</th>\n",
       "      <th>actor_3_name</th>\n",
       "      <th>genres</th>\n",
       "    </tr>\n",
       "  </thead>\n",
       "  <tbody>\n",
       "    <tr>\n",
       "      <th>0</th>\n",
       "      <td>The Grudge</td>\n",
       "      <td>Nicolas Pesce</td>\n",
       "      <td>Andrea Riseborough</td>\n",
       "      <td>Demián Bichir</td>\n",
       "      <td>John Cho</td>\n",
       "      <td>Horror Mystery Thriller</td>\n",
       "    </tr>\n",
       "    <tr>\n",
       "      <th>1</th>\n",
       "      <td>Underwater</td>\n",
       "      <td>William Eubank</td>\n",
       "      <td>Kristen Stewart</td>\n",
       "      <td>Vincent Cassel</td>\n",
       "      <td>Jessica Henwick</td>\n",
       "      <td>Action Horror Science Fiction Thriller</td>\n",
       "    </tr>\n",
       "  </tbody>\n",
       "</table>\n",
       "</div>"
      ],
      "text/plain": [
       "        Title   director_name        actor_1_name    actor_2_name  \\\n",
       "0  The Grudge   Nicolas Pesce  Andrea Riseborough   Demián Bichir   \n",
       "1  Underwater  William Eubank     Kristen Stewart  Vincent Cassel   \n",
       "\n",
       "      actor_3_name                                  genres  \n",
       "0         John Cho                 Horror Mystery Thriller  \n",
       "1  Jessica Henwick  Action Horror Science Fiction Thriller  "
      ]
     },
     "execution_count": 47,
     "metadata": {},
     "output_type": "execute_result"
    }
   ],
   "source": [
    "df_2020 = df[['Title','director_name','actor_1_name','actor_2_name','actor_3_name','genres']]\n",
    "df_2020.head(2)"
   ]
  },
  {
   "cell_type": "code",
   "execution_count": 48,
   "metadata": {},
   "outputs": [],
   "source": [
    "df_2020 = df_2020.apply(lambda x: x.str.lower())"
   ]
  },
  {
   "cell_type": "code",
   "execution_count": 49,
   "metadata": {},
   "outputs": [
    {
     "data": {
      "text/html": [
       "<div>\n",
       "<style scoped>\n",
       "    .dataframe tbody tr th:only-of-type {\n",
       "        vertical-align: middle;\n",
       "    }\n",
       "\n",
       "    .dataframe tbody tr th {\n",
       "        vertical-align: top;\n",
       "    }\n",
       "\n",
       "    .dataframe thead th {\n",
       "        text-align: right;\n",
       "    }\n",
       "</style>\n",
       "<table border=\"1\" class=\"dataframe\">\n",
       "  <thead>\n",
       "    <tr style=\"text-align: right;\">\n",
       "      <th></th>\n",
       "      <th>Title</th>\n",
       "      <th>director_name</th>\n",
       "      <th>actor_1_name</th>\n",
       "      <th>actor_2_name</th>\n",
       "      <th>actor_3_name</th>\n",
       "      <th>genres</th>\n",
       "    </tr>\n",
       "  </thead>\n",
       "  <tbody>\n",
       "    <tr>\n",
       "      <th>0</th>\n",
       "      <td>the grudge</td>\n",
       "      <td>nicolas pesce</td>\n",
       "      <td>andrea riseborough</td>\n",
       "      <td>demián bichir</td>\n",
       "      <td>john cho</td>\n",
       "      <td>horror mystery thriller</td>\n",
       "    </tr>\n",
       "    <tr>\n",
       "      <th>1</th>\n",
       "      <td>underwater</td>\n",
       "      <td>william eubank</td>\n",
       "      <td>kristen stewart</td>\n",
       "      <td>vincent cassel</td>\n",
       "      <td>jessica henwick</td>\n",
       "      <td>action horror science fiction thriller</td>\n",
       "    </tr>\n",
       "  </tbody>\n",
       "</table>\n",
       "</div>"
      ],
      "text/plain": [
       "        Title   director_name        actor_1_name    actor_2_name  \\\n",
       "0  the grudge   nicolas pesce  andrea riseborough   demián bichir   \n",
       "1  underwater  william eubank     kristen stewart  vincent cassel   \n",
       "\n",
       "      actor_3_name                                  genres  \n",
       "0         john cho                 horror mystery thriller  \n",
       "1  jessica henwick  action horror science fiction thriller  "
      ]
     },
     "execution_count": 49,
     "metadata": {},
     "output_type": "execute_result"
    }
   ],
   "source": [
    "df_2020.head(2)"
   ]
  },
  {
   "cell_type": "code",
   "execution_count": 50,
   "metadata": {},
   "outputs": [
    {
     "data": {
      "text/plain": [
       "Title            0\n",
       "director_name    0\n",
       "actor_1_name     0\n",
       "actor_2_name     0\n",
       "actor_3_name     0\n",
       "genres           0\n",
       "dtype: int64"
      ]
     },
     "execution_count": 50,
     "metadata": {},
     "output_type": "execute_result"
    }
   ],
   "source": [
    "df_2020.isna().sum()"
   ]
  },
  {
   "cell_type": "code",
   "execution_count": 51,
   "metadata": {},
   "outputs": [],
   "source": [
    "df_2020.rename(columns={'Title':'movie_title'},inplace=True)"
   ]
  },
  {
   "cell_type": "code",
   "execution_count": 52,
   "metadata": {},
   "outputs": [],
   "source": [
    "df_2020['combined'] = df_2020.director_name + ' ' +  df_2020.actor_1_name + ' '+df_2020.actor_2_name + ' ' + df_2020.actor_3_name + ' ' + df_2020.genres"
   ]
  },
  {
   "cell_type": "code",
   "execution_count": 53,
   "metadata": {},
   "outputs": [],
   "source": [
    "df181920 = my_df.append(df_2020,ignore_index=True)"
   ]
  },
  {
   "cell_type": "code",
   "execution_count": 54,
   "metadata": {},
   "outputs": [
    {
     "data": {
      "text/plain": [
       "Index(['movie_title', 'director_name', 'actor_1_name', 'actor_2_name',\n",
       "       'actor_3_name', 'genres', 'combined'],\n",
       "      dtype='object')"
      ]
     },
     "execution_count": 54,
     "metadata": {},
     "output_type": "execute_result"
    }
   ],
   "source": [
    "df_2020.columns"
   ]
  },
  {
   "cell_type": "code",
   "execution_count": 55,
   "metadata": {
    "scrolled": false
   },
   "outputs": [
    {
     "data": {
      "text/html": [
       "<div>\n",
       "<style scoped>\n",
       "    .dataframe tbody tr th:only-of-type {\n",
       "        vertical-align: middle;\n",
       "    }\n",
       "\n",
       "    .dataframe tbody tr th {\n",
       "        vertical-align: top;\n",
       "    }\n",
       "\n",
       "    .dataframe thead th {\n",
       "        text-align: right;\n",
       "    }\n",
       "</style>\n",
       "<table border=\"1\" class=\"dataframe\">\n",
       "  <thead>\n",
       "    <tr style=\"text-align: right;\">\n",
       "      <th></th>\n",
       "      <th>movie_title</th>\n",
       "      <th>director_name</th>\n",
       "      <th>actor_1_name</th>\n",
       "      <th>actor_2_name</th>\n",
       "      <th>actor_3_name</th>\n",
       "      <th>genres</th>\n",
       "      <th>combined</th>\n",
       "    </tr>\n",
       "  </thead>\n",
       "  <tbody>\n",
       "    <tr>\n",
       "      <th>0</th>\n",
       "      <td>insidious: the last key</td>\n",
       "      <td>adam robitel</td>\n",
       "      <td>lin shaye</td>\n",
       "      <td>angus sampson</td>\n",
       "      <td>leigh whannell</td>\n",
       "      <td>mystery horror thriller</td>\n",
       "      <td>adam robitel lin shaye angus sampson leigh wha...</td>\n",
       "    </tr>\n",
       "    <tr>\n",
       "      <th>1</th>\n",
       "      <td>the strange ones</td>\n",
       "      <td>lauren wolkstein</td>\n",
       "      <td>alex pettyfer</td>\n",
       "      <td>james freedson-jackson</td>\n",
       "      <td>emily althaus</td>\n",
       "      <td>thriller drama</td>\n",
       "      <td>lauren wolkstein alex pettyfer james freedson-...</td>\n",
       "    </tr>\n",
       "    <tr>\n",
       "      <th>2</th>\n",
       "      <td>stratton</td>\n",
       "      <td>simon west</td>\n",
       "      <td>dominic cooper</td>\n",
       "      <td>austin stowell</td>\n",
       "      <td>gemma chan</td>\n",
       "      <td>action thriller</td>\n",
       "      <td>simon west dominic cooper austin stowell gemma...</td>\n",
       "    </tr>\n",
       "    <tr>\n",
       "      <th>3</th>\n",
       "      <td>sweet country</td>\n",
       "      <td>warwick thornton</td>\n",
       "      <td>bryan brown</td>\n",
       "      <td>sam neill</td>\n",
       "      <td></td>\n",
       "      <td>drama history western</td>\n",
       "      <td>warwick thornton bryan brown sam neill   drama...</td>\n",
       "    </tr>\n",
       "    <tr>\n",
       "      <th>4</th>\n",
       "      <td>the commuter</td>\n",
       "      <td>jaume collet-serra</td>\n",
       "      <td>liam neeson</td>\n",
       "      <td>vera farmiga</td>\n",
       "      <td>patrick wilson</td>\n",
       "      <td>action thriller</td>\n",
       "      <td>jaume collet-serra liam neeson vera farmiga pa...</td>\n",
       "    </tr>\n",
       "    <tr>\n",
       "      <th>...</th>\n",
       "      <td>...</td>\n",
       "      <td>...</td>\n",
       "      <td>...</td>\n",
       "      <td>...</td>\n",
       "      <td>...</td>\n",
       "      <td>...</td>\n",
       "      <td>...</td>\n",
       "    </tr>\n",
       "    <tr>\n",
       "      <th>760</th>\n",
       "      <td>little women</td>\n",
       "      <td>greta gerwig</td>\n",
       "      <td>saoirse ronan</td>\n",
       "      <td>emma watson</td>\n",
       "      <td>florence pugh</td>\n",
       "      <td>drama romance</td>\n",
       "      <td>greta gerwig saoirse ronan emma watson florenc...</td>\n",
       "    </tr>\n",
       "    <tr>\n",
       "      <th>761</th>\n",
       "      <td>1917</td>\n",
       "      <td>sam mendes</td>\n",
       "      <td>george mackay</td>\n",
       "      <td>dean-charles chapman</td>\n",
       "      <td>mark strong</td>\n",
       "      <td>war drama</td>\n",
       "      <td>sam mendes george mackay dean-charles chapman ...</td>\n",
       "    </tr>\n",
       "    <tr>\n",
       "      <th>762</th>\n",
       "      <td>just mercy</td>\n",
       "      <td>destin daniel cretton</td>\n",
       "      <td>michael b. jordan</td>\n",
       "      <td>jamie foxx</td>\n",
       "      <td>brie larson</td>\n",
       "      <td>drama</td>\n",
       "      <td>destin daniel cretton michael b. jordan jamie ...</td>\n",
       "    </tr>\n",
       "    <tr>\n",
       "      <th>763</th>\n",
       "      <td>clemency</td>\n",
       "      <td>chinonye chukwu</td>\n",
       "      <td>alfre woodard</td>\n",
       "      <td>wendell pierce</td>\n",
       "      <td>aldis hodge</td>\n",
       "      <td>drama</td>\n",
       "      <td>chinonye chukwu alfre woodard wendell pierce a...</td>\n",
       "    </tr>\n",
       "    <tr>\n",
       "      <th>764</th>\n",
       "      <td>apparition</td>\n",
       "      <td>waymon boone</td>\n",
       "      <td>mena suvari</td>\n",
       "      <td>kevin pollak</td>\n",
       "      <td></td>\n",
       "      <td>horror thriller</td>\n",
       "      <td>waymon boone mena suvari kevin pollak   horror...</td>\n",
       "    </tr>\n",
       "  </tbody>\n",
       "</table>\n",
       "<p>765 rows × 7 columns</p>\n",
       "</div>"
      ],
      "text/plain": [
       "                 movie_title          director_name       actor_1_name  \\\n",
       "0    insidious: the last key           adam robitel          lin shaye   \n",
       "1           the strange ones       lauren wolkstein      alex pettyfer   \n",
       "2                   stratton             simon west     dominic cooper   \n",
       "3              sweet country       warwick thornton        bryan brown   \n",
       "4               the commuter     jaume collet-serra        liam neeson   \n",
       "..                       ...                    ...                ...   \n",
       "760             little women           greta gerwig      saoirse ronan   \n",
       "761                     1917             sam mendes      george mackay   \n",
       "762               just mercy  destin daniel cretton  michael b. jordan   \n",
       "763                 clemency        chinonye chukwu      alfre woodard   \n",
       "764               apparition           waymon boone        mena suvari   \n",
       "\n",
       "               actor_2_name    actor_3_name                   genres  \\\n",
       "0             angus sampson  leigh whannell  mystery horror thriller   \n",
       "1    james freedson-jackson   emily althaus           thriller drama   \n",
       "2            austin stowell      gemma chan          action thriller   \n",
       "3                 sam neill                    drama history western   \n",
       "4              vera farmiga  patrick wilson          action thriller   \n",
       "..                      ...             ...                      ...   \n",
       "760             emma watson   florence pugh            drama romance   \n",
       "761    dean-charles chapman     mark strong                war drama   \n",
       "762              jamie foxx     brie larson                    drama   \n",
       "763          wendell pierce     aldis hodge                    drama   \n",
       "764            kevin pollak                          horror thriller   \n",
       "\n",
       "                                              combined  \n",
       "0    adam robitel lin shaye angus sampson leigh wha...  \n",
       "1    lauren wolkstein alex pettyfer james freedson-...  \n",
       "2    simon west dominic cooper austin stowell gemma...  \n",
       "3    warwick thornton bryan brown sam neill   drama...  \n",
       "4    jaume collet-serra liam neeson vera farmiga pa...  \n",
       "..                                                 ...  \n",
       "760  greta gerwig saoirse ronan emma watson florenc...  \n",
       "761  sam mendes george mackay dean-charles chapman ...  \n",
       "762  destin daniel cretton michael b. jordan jamie ...  \n",
       "763  chinonye chukwu alfre woodard wendell pierce a...  \n",
       "764  waymon boone mena suvari kevin pollak   horror...  \n",
       "\n",
       "[765 rows x 7 columns]"
      ]
     },
     "execution_count": 55,
     "metadata": {},
     "output_type": "execute_result"
    }
   ],
   "source": [
    "df181920"
   ]
  },
  {
   "cell_type": "code",
   "execution_count": 56,
   "metadata": {},
   "outputs": [
    {
     "data": {
      "text/html": [
       "<div>\n",
       "<style scoped>\n",
       "    .dataframe tbody tr th:only-of-type {\n",
       "        vertical-align: middle;\n",
       "    }\n",
       "\n",
       "    .dataframe tbody tr th {\n",
       "        vertical-align: top;\n",
       "    }\n",
       "\n",
       "    .dataframe thead th {\n",
       "        text-align: right;\n",
       "    }\n",
       "</style>\n",
       "<table border=\"1\" class=\"dataframe\">\n",
       "  <thead>\n",
       "    <tr style=\"text-align: right;\">\n",
       "      <th></th>\n",
       "      <th>movie_title</th>\n",
       "      <th>director_name</th>\n",
       "      <th>actor_1_name</th>\n",
       "      <th>actor_2_name</th>\n",
       "      <th>actor_3_name</th>\n",
       "      <th>genres</th>\n",
       "      <th>combined</th>\n",
       "    </tr>\n",
       "  </thead>\n",
       "  <tbody>\n",
       "    <tr>\n",
       "      <th>0</th>\n",
       "      <td>monsters vs. aliens</td>\n",
       "      <td>rob letterman</td>\n",
       "      <td>amy poehler</td>\n",
       "      <td>rainn wilson</td>\n",
       "      <td>stephen colbert</td>\n",
       "      <td>action adventure animation comedy family sci-fi</td>\n",
       "      <td>rob letterman amy poehler rainn wilson stephen...</td>\n",
       "    </tr>\n",
       "    <tr>\n",
       "      <th>1</th>\n",
       "      <td>puss in boots</td>\n",
       "      <td>chris miller</td>\n",
       "      <td>salma hayek</td>\n",
       "      <td>constance marie</td>\n",
       "      <td>amy sedaris</td>\n",
       "      <td>action adventure animation comedy family fantasy</td>\n",
       "      <td>chris miller salma hayek constance marie amy s...</td>\n",
       "    </tr>\n",
       "  </tbody>\n",
       "</table>\n",
       "</div>"
      ],
      "text/plain": [
       "           movie_title  director_name actor_1_name     actor_2_name  \\\n",
       "0  monsters vs. aliens  rob letterman  amy poehler     rainn wilson   \n",
       "1        puss in boots   chris miller  salma hayek  constance marie   \n",
       "\n",
       "      actor_3_name                                            genres  \\\n",
       "0  stephen colbert   action adventure animation comedy family sci-fi   \n",
       "1      amy sedaris  action adventure animation comedy family fantasy   \n",
       "\n",
       "                                            combined  \n",
       "0  rob letterman amy poehler rainn wilson stephen...  \n",
       "1  chris miller salma hayek constance marie amy s...  "
      ]
     },
     "execution_count": 56,
     "metadata": {},
     "output_type": "execute_result"
    }
   ],
   "source": [
    "previousData = pd.read_csv('new_data.csv')\n",
    "previousData.head(2)"
   ]
  },
  {
   "cell_type": "code",
   "execution_count": 57,
   "metadata": {},
   "outputs": [
    {
     "data": {
      "text/plain": [
       "(10795, 7)"
      ]
     },
     "execution_count": 57,
     "metadata": {},
     "output_type": "execute_result"
    }
   ],
   "source": [
    "previousData.shape"
   ]
  },
  {
   "cell_type": "code",
   "execution_count": 58,
   "metadata": {},
   "outputs": [
    {
     "data": {
      "text/plain": [
       "(11560, 7)"
      ]
     },
     "execution_count": 58,
     "metadata": {},
     "output_type": "execute_result"
    }
   ],
   "source": [
    "FinalData = df181920.append(previousData)\n",
    "FinalData.shape"
   ]
  },
  {
   "cell_type": "code",
   "execution_count": 59,
   "metadata": {},
   "outputs": [
    {
     "data": {
      "text/plain": [
       "movie_title      0\n",
       "director_name    0\n",
       "actor_1_name     0\n",
       "actor_2_name     0\n",
       "actor_3_name     0\n",
       "genres           4\n",
       "combined         4\n",
       "dtype: int64"
      ]
     },
     "execution_count": 59,
     "metadata": {},
     "output_type": "execute_result"
    }
   ],
   "source": [
    "FinalData.isna().sum()"
   ]
  },
  {
   "cell_type": "code",
   "execution_count": 60,
   "metadata": {},
   "outputs": [],
   "source": [
    "FinalData.dropna(inplace=True)"
   ]
  },
  {
   "cell_type": "code",
   "execution_count": 61,
   "metadata": {},
   "outputs": [
    {
     "data": {
      "text/plain": [
       "movie_title      0\n",
       "director_name    0\n",
       "actor_1_name     0\n",
       "actor_2_name     0\n",
       "actor_3_name     0\n",
       "genres           0\n",
       "combined         0\n",
       "dtype: int64"
      ]
     },
     "execution_count": 61,
     "metadata": {},
     "output_type": "execute_result"
    }
   ],
   "source": [
    "FinalData.isna().sum()"
   ]
  },
  {
   "cell_type": "code",
   "execution_count": 62,
   "metadata": {},
   "outputs": [
    {
     "data": {
      "text/plain": [
       "Index(['movie_title', 'director_name', 'actor_1_name', 'actor_2_name',\n",
       "       'actor_3_name', 'genres', 'combined'],\n",
       "      dtype='object')"
      ]
     },
     "execution_count": 62,
     "metadata": {},
     "output_type": "execute_result"
    }
   ],
   "source": [
    "FinalData.columns"
   ]
  },
  {
   "cell_type": "code",
   "execution_count": 63,
   "metadata": {},
   "outputs": [
    {
     "data": {
      "text/plain": [
       "(11382, 7)"
      ]
     },
     "execution_count": 63,
     "metadata": {},
     "output_type": "execute_result"
    }
   ],
   "source": [
    "FinalData.drop_duplicates(subset='movie_title',keep='last',inplace=True)\n",
    "FinalData.shape"
   ]
  },
  {
   "cell_type": "code",
   "execution_count": 64,
   "metadata": {},
   "outputs": [],
   "source": [
    "FinalData.reset_index(inplace = True)"
   ]
  },
  {
   "cell_type": "code",
   "execution_count": 65,
   "metadata": {},
   "outputs": [],
   "source": [
    "FinalData.drop('index',inplace=True,axis=1)"
   ]
  },
  {
   "cell_type": "code",
   "execution_count": 66,
   "metadata": {},
   "outputs": [
    {
     "data": {
      "text/html": [
       "<div>\n",
       "<style scoped>\n",
       "    .dataframe tbody tr th:only-of-type {\n",
       "        vertical-align: middle;\n",
       "    }\n",
       "\n",
       "    .dataframe tbody tr th {\n",
       "        vertical-align: top;\n",
       "    }\n",
       "\n",
       "    .dataframe thead th {\n",
       "        text-align: right;\n",
       "    }\n",
       "</style>\n",
       "<table border=\"1\" class=\"dataframe\">\n",
       "  <thead>\n",
       "    <tr style=\"text-align: right;\">\n",
       "      <th></th>\n",
       "      <th>movie_title</th>\n",
       "      <th>director_name</th>\n",
       "      <th>actor_1_name</th>\n",
       "      <th>actor_2_name</th>\n",
       "      <th>actor_3_name</th>\n",
       "      <th>genres</th>\n",
       "      <th>combined</th>\n",
       "    </tr>\n",
       "  </thead>\n",
       "  <tbody>\n",
       "    <tr>\n",
       "      <th>0</th>\n",
       "      <td>insidious: the last key</td>\n",
       "      <td>adam robitel</td>\n",
       "      <td>lin shaye</td>\n",
       "      <td>angus sampson</td>\n",
       "      <td>leigh whannell</td>\n",
       "      <td>mystery horror thriller</td>\n",
       "      <td>adam robitel lin shaye angus sampson leigh wha...</td>\n",
       "    </tr>\n",
       "    <tr>\n",
       "      <th>1</th>\n",
       "      <td>the strange ones</td>\n",
       "      <td>lauren wolkstein</td>\n",
       "      <td>alex pettyfer</td>\n",
       "      <td>james freedson-jackson</td>\n",
       "      <td>emily althaus</td>\n",
       "      <td>thriller drama</td>\n",
       "      <td>lauren wolkstein alex pettyfer james freedson-...</td>\n",
       "    </tr>\n",
       "    <tr>\n",
       "      <th>2</th>\n",
       "      <td>stratton</td>\n",
       "      <td>simon west</td>\n",
       "      <td>dominic cooper</td>\n",
       "      <td>austin stowell</td>\n",
       "      <td>gemma chan</td>\n",
       "      <td>action thriller</td>\n",
       "      <td>simon west dominic cooper austin stowell gemma...</td>\n",
       "    </tr>\n",
       "    <tr>\n",
       "      <th>3</th>\n",
       "      <td>sweet country</td>\n",
       "      <td>warwick thornton</td>\n",
       "      <td>bryan brown</td>\n",
       "      <td>sam neill</td>\n",
       "      <td></td>\n",
       "      <td>drama history western</td>\n",
       "      <td>warwick thornton bryan brown sam neill   drama...</td>\n",
       "    </tr>\n",
       "    <tr>\n",
       "      <th>4</th>\n",
       "      <td>the commuter</td>\n",
       "      <td>jaume collet-serra</td>\n",
       "      <td>liam neeson</td>\n",
       "      <td>vera farmiga</td>\n",
       "      <td>patrick wilson</td>\n",
       "      <td>action thriller</td>\n",
       "      <td>jaume collet-serra liam neeson vera farmiga pa...</td>\n",
       "    </tr>\n",
       "    <tr>\n",
       "      <th>...</th>\n",
       "      <td>...</td>\n",
       "      <td>...</td>\n",
       "      <td>...</td>\n",
       "      <td>...</td>\n",
       "      <td>...</td>\n",
       "      <td>...</td>\n",
       "      <td>...</td>\n",
       "    </tr>\n",
       "    <tr>\n",
       "      <th>11377</th>\n",
       "      <td>an american vampire story</td>\n",
       "      <td>luis esteban\\t</td>\n",
       "      <td>trevor lissauer</td>\n",
       "      <td>johnny venocur</td>\n",
       "      <td>adam west</td>\n",
       "      <td>comedy horror</td>\n",
       "      <td>luis esteban\\t trevor lissauer johnny venocur ...</td>\n",
       "    </tr>\n",
       "    <tr>\n",
       "      <th>11378</th>\n",
       "      <td>fit to kill</td>\n",
       "      <td>andy sidaris</td>\n",
       "      <td>dona speir</td>\n",
       "      <td>roberta vasquez</td>\n",
       "      <td>bruce penhall</td>\n",
       "      <td>action romance thriller</td>\n",
       "      <td>andy sidaris dona speir roberta vasquez bruce ...</td>\n",
       "    </tr>\n",
       "    <tr>\n",
       "      <th>11379</th>\n",
       "      <td>cadet kelly</td>\n",
       "      <td>larry shaw</td>\n",
       "      <td>hilary duff</td>\n",
       "      <td>christy carlson romano</td>\n",
       "      <td>gary cole</td>\n",
       "      <td>comedy</td>\n",
       "      <td>larry shaw hilary duff christy carlson romano ...</td>\n",
       "    </tr>\n",
       "    <tr>\n",
       "      <th>11380</th>\n",
       "      <td>robin hood</td>\n",
       "      <td>john irvin</td>\n",
       "      <td>patrick bergin</td>\n",
       "      <td>uma thurman</td>\n",
       "      <td>david morrissey</td>\n",
       "      <td>drama action romance</td>\n",
       "      <td>john irvin patrick bergin uma thurman david mo...</td>\n",
       "    </tr>\n",
       "    <tr>\n",
       "      <th>11381</th>\n",
       "      <td>betrayal</td>\n",
       "      <td>mark l. lester</td>\n",
       "      <td>erika eleniak</td>\n",
       "      <td>adam baldwin</td>\n",
       "      <td>julie du page</td>\n",
       "      <td>action drama thriller</td>\n",
       "      <td>mark l. lester erika eleniak adam baldwin juli...</td>\n",
       "    </tr>\n",
       "  </tbody>\n",
       "</table>\n",
       "<p>11382 rows × 7 columns</p>\n",
       "</div>"
      ],
      "text/plain": [
       "                     movie_title       director_name     actor_1_name  \\\n",
       "0        insidious: the last key        adam robitel        lin shaye   \n",
       "1               the strange ones    lauren wolkstein    alex pettyfer   \n",
       "2                       stratton          simon west   dominic cooper   \n",
       "3                  sweet country    warwick thornton      bryan brown   \n",
       "4                   the commuter  jaume collet-serra      liam neeson   \n",
       "...                          ...                 ...              ...   \n",
       "11377  an american vampire story      luis esteban\\t  trevor lissauer   \n",
       "11378                fit to kill        andy sidaris       dona speir   \n",
       "11379                cadet kelly          larry shaw      hilary duff   \n",
       "11380                 robin hood          john irvin   patrick bergin   \n",
       "11381                   betrayal      mark l. lester    erika eleniak   \n",
       "\n",
       "                 actor_2_name     actor_3_name                   genres  \\\n",
       "0               angus sampson   leigh whannell  mystery horror thriller   \n",
       "1      james freedson-jackson    emily althaus           thriller drama   \n",
       "2              austin stowell       gemma chan          action thriller   \n",
       "3                   sam neill                     drama history western   \n",
       "4                vera farmiga   patrick wilson          action thriller   \n",
       "...                       ...              ...                      ...   \n",
       "11377          johnny venocur        adam west            comedy horror   \n",
       "11378         roberta vasquez    bruce penhall  action romance thriller   \n",
       "11379  christy carlson romano        gary cole                   comedy   \n",
       "11380             uma thurman  david morrissey     drama action romance   \n",
       "11381            adam baldwin    julie du page    action drama thriller   \n",
       "\n",
       "                                                combined  \n",
       "0      adam robitel lin shaye angus sampson leigh wha...  \n",
       "1      lauren wolkstein alex pettyfer james freedson-...  \n",
       "2      simon west dominic cooper austin stowell gemma...  \n",
       "3      warwick thornton bryan brown sam neill   drama...  \n",
       "4      jaume collet-serra liam neeson vera farmiga pa...  \n",
       "...                                                  ...  \n",
       "11377  luis esteban\\t trevor lissauer johnny venocur ...  \n",
       "11378  andy sidaris dona speir roberta vasquez bruce ...  \n",
       "11379  larry shaw hilary duff christy carlson romano ...  \n",
       "11380  john irvin patrick bergin uma thurman david mo...  \n",
       "11381  mark l. lester erika eleniak adam baldwin juli...  \n",
       "\n",
       "[11382 rows x 7 columns]"
      ]
     },
     "execution_count": 66,
     "metadata": {},
     "output_type": "execute_result"
    }
   ],
   "source": [
    "FinalData"
   ]
  },
  {
   "cell_type": "code",
   "execution_count": 67,
   "metadata": {},
   "outputs": [],
   "source": [
    "FinalData.to_csv('FinalData.csv',index=False)"
   ]
  },
  {
   "cell_type": "code",
   "execution_count": 68,
   "metadata": {},
   "outputs": [],
   "source": [
    "import pickle\n",
    "with open('FinalData_p', 'wb') as f1:\n",
    "    pickle.dump(FinalData, f1)"
   ]
  },
  {
   "cell_type": "code",
   "execution_count": null,
   "metadata": {},
   "outputs": [],
   "source": []
  },
  {
   "cell_type": "code",
   "execution_count": null,
   "metadata": {},
   "outputs": [],
   "source": []
  },
  {
   "cell_type": "markdown",
   "metadata": {},
   "source": [
    "# ALL ENGLISH MOVIES IN THIS FILE"
   ]
  }
 ],
 "metadata": {
  "kernelspec": {
   "display_name": "Python 3",
   "language": "python",
   "name": "python3"
  },
  "language_info": {
   "codemirror_mode": {
    "name": "ipython",
    "version": 3
   },
   "file_extension": ".py",
   "mimetype": "text/x-python",
   "name": "python",
   "nbconvert_exporter": "python",
   "pygments_lexer": "ipython3",
   "version": "3.8.0"
  }
 },
 "nbformat": 4,
 "nbformat_minor": 4
}
