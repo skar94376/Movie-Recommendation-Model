{
 "cells": [
  {
   "cell_type": "markdown",
   "metadata": {},
   "source": [
    "Movie filters used: \n",
    "* runtime more than 80minutes\n",
    "* relesaesed date after 1970\n",
    "* production countries include USA\n",
    "* language is engish"
   ]
  },
  {
   "cell_type": "code",
   "execution_count": 1,
   "metadata": {},
   "outputs": [],
   "source": [
    "import pandas as pd\n",
    "import numpy as np\n",
    "import matplotlib.pyplot as plt\n",
    "import warnings\n",
    "warnings.filterwarnings('ignore')\n",
    "import ast"
   ]
  },
  {
   "cell_type": "code",
   "execution_count": 2,
   "metadata": {},
   "outputs": [
    {
     "data": {
      "text/html": [
       "<div>\n",
       "<style scoped>\n",
       "    .dataframe tbody tr th:only-of-type {\n",
       "        vertical-align: middle;\n",
       "    }\n",
       "\n",
       "    .dataframe tbody tr th {\n",
       "        vertical-align: top;\n",
       "    }\n",
       "\n",
       "    .dataframe thead th {\n",
       "        text-align: right;\n",
       "    }\n",
       "</style>\n",
       "<table border=\"1\" class=\"dataframe\">\n",
       "  <thead>\n",
       "    <tr style=\"text-align: right;\">\n",
       "      <th></th>\n",
       "      <th>cast</th>\n",
       "      <th>crew</th>\n",
       "      <th>id</th>\n",
       "    </tr>\n",
       "  </thead>\n",
       "  <tbody>\n",
       "    <tr>\n",
       "      <th>0</th>\n",
       "      <td>[{'cast_id': 14, 'character': 'Woody (voice)',...</td>\n",
       "      <td>[{'credit_id': '52fe4284c3a36847f8024f49', 'de...</td>\n",
       "      <td>862</td>\n",
       "    </tr>\n",
       "    <tr>\n",
       "      <th>1</th>\n",
       "      <td>[{'cast_id': 1, 'character': 'Alan Parrish', '...</td>\n",
       "      <td>[{'credit_id': '52fe44bfc3a36847f80a7cd1', 'de...</td>\n",
       "      <td>8844</td>\n",
       "    </tr>\n",
       "  </tbody>\n",
       "</table>\n",
       "</div>"
      ],
      "text/plain": [
       "                                                cast  \\\n",
       "0  [{'cast_id': 14, 'character': 'Woody (voice)',...   \n",
       "1  [{'cast_id': 1, 'character': 'Alan Parrish', '...   \n",
       "\n",
       "                                                crew    id  \n",
       "0  [{'credit_id': '52fe4284c3a36847f8024f49', 'de...   862  \n",
       "1  [{'credit_id': '52fe44bfc3a36847f80a7cd1', 'de...  8844  "
      ]
     },
     "execution_count": 2,
     "metadata": {},
     "output_type": "execute_result"
    }
   ],
   "source": [
    "c = pd.read_csv('credits.csv')\n",
    "c.head(2)"
   ]
  },
  {
   "cell_type": "code",
   "execution_count": 3,
   "metadata": {},
   "outputs": [
    {
     "data": {
      "text/html": [
       "<div>\n",
       "<style scoped>\n",
       "    .dataframe tbody tr th:only-of-type {\n",
       "        vertical-align: middle;\n",
       "    }\n",
       "\n",
       "    .dataframe tbody tr th {\n",
       "        vertical-align: top;\n",
       "    }\n",
       "\n",
       "    .dataframe thead th {\n",
       "        text-align: right;\n",
       "    }\n",
       "</style>\n",
       "<table border=\"1\" class=\"dataframe\">\n",
       "  <thead>\n",
       "    <tr style=\"text-align: right;\">\n",
       "      <th></th>\n",
       "      <th>adult</th>\n",
       "      <th>belongs_to_collection</th>\n",
       "      <th>budget</th>\n",
       "      <th>genres</th>\n",
       "      <th>homepage</th>\n",
       "      <th>id</th>\n",
       "      <th>imdb_id</th>\n",
       "      <th>original_language</th>\n",
       "      <th>original_title</th>\n",
       "      <th>overview</th>\n",
       "      <th>...</th>\n",
       "      <th>release_date</th>\n",
       "      <th>revenue</th>\n",
       "      <th>runtime</th>\n",
       "      <th>spoken_languages</th>\n",
       "      <th>status</th>\n",
       "      <th>tagline</th>\n",
       "      <th>title</th>\n",
       "      <th>video</th>\n",
       "      <th>vote_average</th>\n",
       "      <th>vote_count</th>\n",
       "    </tr>\n",
       "  </thead>\n",
       "  <tbody>\n",
       "    <tr>\n",
       "      <th>0</th>\n",
       "      <td>False</td>\n",
       "      <td>{'id': 10194, 'name': 'Toy Story Collection', ...</td>\n",
       "      <td>30000000</td>\n",
       "      <td>[{'id': 16, 'name': 'Animation'}, {'id': 35, '...</td>\n",
       "      <td>http://toystory.disney.com/toy-story</td>\n",
       "      <td>862</td>\n",
       "      <td>tt0114709</td>\n",
       "      <td>en</td>\n",
       "      <td>Toy Story</td>\n",
       "      <td>Led by Woody, Andy's toys live happily in his ...</td>\n",
       "      <td>...</td>\n",
       "      <td>1995-10-30</td>\n",
       "      <td>373554033.0</td>\n",
       "      <td>81.0</td>\n",
       "      <td>[{'iso_639_1': 'en', 'name': 'English'}]</td>\n",
       "      <td>Released</td>\n",
       "      <td>NaN</td>\n",
       "      <td>Toy Story</td>\n",
       "      <td>False</td>\n",
       "      <td>7.7</td>\n",
       "      <td>5415.0</td>\n",
       "    </tr>\n",
       "    <tr>\n",
       "      <th>1</th>\n",
       "      <td>False</td>\n",
       "      <td>NaN</td>\n",
       "      <td>65000000</td>\n",
       "      <td>[{'id': 12, 'name': 'Adventure'}, {'id': 14, '...</td>\n",
       "      <td>NaN</td>\n",
       "      <td>8844</td>\n",
       "      <td>tt0113497</td>\n",
       "      <td>en</td>\n",
       "      <td>Jumanji</td>\n",
       "      <td>When siblings Judy and Peter discover an encha...</td>\n",
       "      <td>...</td>\n",
       "      <td>1995-12-15</td>\n",
       "      <td>262797249.0</td>\n",
       "      <td>104.0</td>\n",
       "      <td>[{'iso_639_1': 'en', 'name': 'English'}, {'iso...</td>\n",
       "      <td>Released</td>\n",
       "      <td>Roll the dice and unleash the excitement!</td>\n",
       "      <td>Jumanji</td>\n",
       "      <td>False</td>\n",
       "      <td>6.9</td>\n",
       "      <td>2413.0</td>\n",
       "    </tr>\n",
       "  </tbody>\n",
       "</table>\n",
       "<p>2 rows × 24 columns</p>\n",
       "</div>"
      ],
      "text/plain": [
       "   adult                              belongs_to_collection    budget  \\\n",
       "0  False  {'id': 10194, 'name': 'Toy Story Collection', ...  30000000   \n",
       "1  False                                                NaN  65000000   \n",
       "\n",
       "                                              genres  \\\n",
       "0  [{'id': 16, 'name': 'Animation'}, {'id': 35, '...   \n",
       "1  [{'id': 12, 'name': 'Adventure'}, {'id': 14, '...   \n",
       "\n",
       "                               homepage    id    imdb_id original_language  \\\n",
       "0  http://toystory.disney.com/toy-story   862  tt0114709                en   \n",
       "1                                   NaN  8844  tt0113497                en   \n",
       "\n",
       "  original_title                                           overview  ...  \\\n",
       "0      Toy Story  Led by Woody, Andy's toys live happily in his ...  ...   \n",
       "1        Jumanji  When siblings Judy and Peter discover an encha...  ...   \n",
       "\n",
       "  release_date      revenue runtime  \\\n",
       "0   1995-10-30  373554033.0    81.0   \n",
       "1   1995-12-15  262797249.0   104.0   \n",
       "\n",
       "                                    spoken_languages    status  \\\n",
       "0           [{'iso_639_1': 'en', 'name': 'English'}]  Released   \n",
       "1  [{'iso_639_1': 'en', 'name': 'English'}, {'iso...  Released   \n",
       "\n",
       "                                     tagline      title  video vote_average  \\\n",
       "0                                        NaN  Toy Story  False          7.7   \n",
       "1  Roll the dice and unleash the excitement!    Jumanji  False          6.9   \n",
       "\n",
       "  vote_count  \n",
       "0     5415.0  \n",
       "1     2413.0  \n",
       "\n",
       "[2 rows x 24 columns]"
      ]
     },
     "execution_count": 3,
     "metadata": {},
     "output_type": "execute_result"
    }
   ],
   "source": [
    "mm = pd.read_csv('movies_metadata.csv')\n",
    "mm.head(2)"
   ]
  },
  {
   "cell_type": "code",
   "execution_count": 4,
   "metadata": {},
   "outputs": [
    {
     "data": {
      "text/plain": [
       "Index(['adult', 'belongs_to_collection', 'budget', 'genres', 'homepage', 'id',\n",
       "       'imdb_id', 'original_language', 'original_title', 'overview',\n",
       "       'popularity', 'poster_path', 'production_companies',\n",
       "       'production_countries', 'release_date', 'revenue', 'runtime',\n",
       "       'spoken_languages', 'status', 'tagline', 'title', 'video',\n",
       "       'vote_average', 'vote_count'],\n",
       "      dtype='object')"
      ]
     },
     "execution_count": 4,
     "metadata": {},
     "output_type": "execute_result"
    }
   ],
   "source": [
    "mm.columns"
   ]
  },
  {
   "cell_type": "code",
   "execution_count": 5,
   "metadata": {},
   "outputs": [
    {
     "data": {
      "text/plain": [
       "en       32269\n",
       "fr        2438\n",
       "it        1529\n",
       "ja        1350\n",
       "de        1080\n",
       "         ...  \n",
       "104.0        1\n",
       "uz           1\n",
       "lb           1\n",
       "sm           1\n",
       "rw           1\n",
       "Name: original_language, Length: 92, dtype: int64"
      ]
     },
     "execution_count": 5,
     "metadata": {},
     "output_type": "execute_result"
    }
   ],
   "source": [
    "mm['original_language'].value_counts()"
   ]
  },
  {
   "cell_type": "code",
   "execution_count": 6,
   "metadata": {},
   "outputs": [],
   "source": [
    "mm = mm[mm['original_language']=='en']"
   ]
  },
  {
   "cell_type": "code",
   "execution_count": 7,
   "metadata": {},
   "outputs": [
    {
     "data": {
      "text/plain": [
       "1878.0       1\n",
       "1883.0       1\n",
       "1890.0       2\n",
       "1891.0       1\n",
       "1892.0       2\n",
       "          ... \n",
       "2015.0    1276\n",
       "2016.0    1093\n",
       "2017.0     411\n",
       "2018.0       5\n",
       "2020.0       1\n",
       "Name: year, Length: 131, dtype: int64"
      ]
     },
     "execution_count": 7,
     "metadata": {},
     "output_type": "execute_result"
    }
   ],
   "source": [
    "mm['release_date'] = pd.to_datetime(mm.release_date,errors='coerce')\n",
    "mm['year'] = mm.release_date.dt.year\n",
    "mm.year.value_counts().sort_index()"
   ]
  },
  {
   "cell_type": "code",
   "execution_count": 8,
   "metadata": {},
   "outputs": [
    {
     "data": {
      "text/plain": [
       "(24630, 25)"
      ]
     },
     "execution_count": 8,
     "metadata": {},
     "output_type": "execute_result"
    }
   ],
   "source": [
    "mm[mm.year > 1975].shape"
   ]
  },
  {
   "cell_type": "code",
   "execution_count": 9,
   "metadata": {},
   "outputs": [],
   "source": [
    "mm = mm[(mm.runtime >= 90) & (mm.year > 1975)]"
   ]
  },
  {
   "cell_type": "code",
   "execution_count": 10,
   "metadata": {},
   "outputs": [
    {
     "data": {
      "text/plain": [
       "[{'iso_3166_1': 'US', 'name': 'United States of America'}]                                                                                                                                     8376\n",
       "[]                                                                                                                                                                                             2197\n",
       "[{'iso_3166_1': 'GB', 'name': 'United Kingdom'}]                                                                                                                                                916\n",
       "[{'iso_3166_1': 'CA', 'name': 'Canada'}]                                                                                                                                                        420\n",
       "[{'iso_3166_1': 'GB', 'name': 'United Kingdom'}, {'iso_3166_1': 'US', 'name': 'United States of America'}]                                                                                      417\n",
       "                                                                                                                                                                                               ... \n",
       "[{'iso_3166_1': 'DE', 'name': 'Germany'}, {'iso_3166_1': 'MA', 'name': 'Morocco'}]                                                                                                                1\n",
       "[{'iso_3166_1': 'US', 'name': 'United States of America'}, {'iso_3166_1': 'DE', 'name': 'Germany'}, {'iso_3166_1': 'FR', 'name': 'France'}, {'iso_3166_1': 'GB', 'name': 'United Kingdom'}]       1\n",
       "[{'iso_3166_1': 'FR', 'name': 'France'}, {'iso_3166_1': 'AU', 'name': 'Australia'}, {'iso_3166_1': 'US', 'name': 'United States of America'}]                                                     1\n",
       "[{'iso_3166_1': 'BA', 'name': 'Bosnia and Herzegovina'}, {'iso_3166_1': 'FR', 'name': 'France'}]                                                                                                  1\n",
       "[{'iso_3166_1': 'KH', 'name': 'Cambodia'}, {'iso_3166_1': 'US', 'name': 'United States of America'}]                                                                                              1\n",
       "Name: production_countries, Length: 1132, dtype: int64"
      ]
     },
     "execution_count": 10,
     "metadata": {},
     "output_type": "execute_result"
    }
   ],
   "source": [
    "mm['production_countries'].value_counts()"
   ]
  },
  {
   "cell_type": "code",
   "execution_count": 11,
   "metadata": {},
   "outputs": [
    {
     "data": {
      "text/plain": [
       "1    [{'iso_3166_1': 'US', 'name': 'United States o...\n",
       "2    [{'iso_3166_1': 'US', 'name': 'United States o...\n",
       "Name: production_countries, dtype: object"
      ]
     },
     "execution_count": 11,
     "metadata": {},
     "output_type": "execute_result"
    }
   ],
   "source": [
    "mm.production_countries[0:2]"
   ]
  },
  {
   "cell_type": "code",
   "execution_count": 12,
   "metadata": {},
   "outputs": [],
   "source": [
    "def get_country_name(x):\n",
    "    country = []\n",
    "    st = ' '\n",
    "    for i in x:\n",
    "        if i.get('name')=='United States of America':\n",
    "            country.append('USA')\n",
    "    if country == []:\n",
    "        return (' ')\n",
    "    else:\n",
    "        return (st.join(country))"
   ]
  },
  {
   "cell_type": "code",
   "execution_count": 13,
   "metadata": {},
   "outputs": [],
   "source": [
    "mm['production_countries'] = mm['production_countries'].map(lambda x: ast.literal_eval(x))\n",
    "mm['country'] = mm['production_countries'].apply(lambda x:get_country_name(x))"
   ]
  },
  {
   "cell_type": "code",
   "execution_count": 14,
   "metadata": {},
   "outputs": [
    {
     "data": {
      "text/plain": [
       "(10629, 26)"
      ]
     },
     "execution_count": 14,
     "metadata": {},
     "output_type": "execute_result"
    }
   ],
   "source": [
    "mm[mm.country == 'USA'].shape"
   ]
  },
  {
   "cell_type": "code",
   "execution_count": 15,
   "metadata": {},
   "outputs": [
    {
     "data": {
      "text/plain": [
       "(16318, 26)"
      ]
     },
     "execution_count": 15,
     "metadata": {},
     "output_type": "execute_result"
    }
   ],
   "source": [
    "mm.shape"
   ]
  },
  {
   "cell_type": "code",
   "execution_count": 16,
   "metadata": {},
   "outputs": [],
   "source": [
    "mm = mm[mm.country == 'USA']"
   ]
  },
  {
   "cell_type": "code",
   "execution_count": 17,
   "metadata": {},
   "outputs": [
    {
     "data": {
      "text/plain": [
       "((10629, 26), (45476, 3))"
      ]
     },
     "execution_count": 17,
     "metadata": {},
     "output_type": "execute_result"
    }
   ],
   "source": [
    "mm.shape,c.shape"
   ]
  },
  {
   "cell_type": "code",
   "execution_count": 18,
   "metadata": {},
   "outputs": [],
   "source": [
    "mm = mm[['title','id','genres']]"
   ]
  },
  {
   "cell_type": "code",
   "execution_count": 19,
   "metadata": {},
   "outputs": [
    {
     "data": {
      "text/plain": [
       "count     45476.000000\n",
       "mean     108345.997537\n",
       "std      112443.796536\n",
       "min           2.000000\n",
       "25%       26443.250000\n",
       "50%       60002.500000\n",
       "75%      157302.000000\n",
       "max      469172.000000\n",
       "Name: id, dtype: float64"
      ]
     },
     "execution_count": 19,
     "metadata": {},
     "output_type": "execute_result"
    }
   ],
   "source": [
    "c['id'].describe()"
   ]
  },
  {
   "cell_type": "code",
   "execution_count": 20,
   "metadata": {},
   "outputs": [
    {
     "data": {
      "text/plain": [
       "count      10629\n",
       "unique     10625\n",
       "top       109962\n",
       "freq           2\n",
       "Name: id, dtype: object"
      ]
     },
     "execution_count": 20,
     "metadata": {},
     "output_type": "execute_result"
    }
   ],
   "source": [
    "mm['id'].describe()"
   ]
  },
  {
   "cell_type": "code",
   "execution_count": 21,
   "metadata": {},
   "outputs": [
    {
     "data": {
      "text/plain": [
       "title     0\n",
       "id        0\n",
       "genres    0\n",
       "dtype: int64"
      ]
     },
     "execution_count": 21,
     "metadata": {},
     "output_type": "execute_result"
    }
   ],
   "source": [
    "mm.isna().sum()"
   ]
  },
  {
   "cell_type": "code",
   "execution_count": 22,
   "metadata": {},
   "outputs": [],
   "source": [
    "l = list(mm[mm['title'].notnull() == False].index)\n",
    "mm.drop(l,inplace=True)"
   ]
  },
  {
   "cell_type": "code",
   "execution_count": 23,
   "metadata": {},
   "outputs": [
    {
     "data": {
      "text/plain": [
       "count     10629.000000\n",
       "mean      84488.849751\n",
       "std      109034.484990\n",
       "min           5.000000\n",
       "25%       12257.000000\n",
       "50%       33295.000000\n",
       "75%      103370.000000\n",
       "max      463906.000000\n",
       "Name: id, dtype: float64"
      ]
     },
     "execution_count": 23,
     "metadata": {},
     "output_type": "execute_result"
    }
   ],
   "source": [
    "mm['id']=mm['id'].astype(int)\n",
    "mm['id'].describe()"
   ]
  },
  {
   "cell_type": "code",
   "execution_count": 24,
   "metadata": {},
   "outputs": [
    {
     "data": {
      "text/plain": [
       "Index(['cast', 'crew', 'id'], dtype='object')"
      ]
     },
     "execution_count": 24,
     "metadata": {},
     "output_type": "execute_result"
    }
   ],
   "source": [
    "c.columns"
   ]
  },
  {
   "cell_type": "code",
   "execution_count": 25,
   "metadata": {},
   "outputs": [
    {
     "data": {
      "text/plain": [
       "Index(['title', 'id', 'genres'], dtype='object')"
      ]
     },
     "execution_count": 25,
     "metadata": {},
     "output_type": "execute_result"
    }
   ],
   "source": [
    "mm.columns"
   ]
  },
  {
   "cell_type": "code",
   "execution_count": 26,
   "metadata": {},
   "outputs": [
    {
     "data": {
      "text/html": [
       "<div>\n",
       "<style scoped>\n",
       "    .dataframe tbody tr th:only-of-type {\n",
       "        vertical-align: middle;\n",
       "    }\n",
       "\n",
       "    .dataframe tbody tr th {\n",
       "        vertical-align: top;\n",
       "    }\n",
       "\n",
       "    .dataframe thead th {\n",
       "        text-align: right;\n",
       "    }\n",
       "</style>\n",
       "<table border=\"1\" class=\"dataframe\">\n",
       "  <thead>\n",
       "    <tr style=\"text-align: right;\">\n",
       "      <th></th>\n",
       "      <th>title</th>\n",
       "      <th>id</th>\n",
       "      <th>genres</th>\n",
       "      <th>cast</th>\n",
       "      <th>crew</th>\n",
       "    </tr>\n",
       "  </thead>\n",
       "  <tbody>\n",
       "    <tr>\n",
       "      <th>0</th>\n",
       "      <td>Jumanji</td>\n",
       "      <td>8844</td>\n",
       "      <td>[{'id': 12, 'name': 'Adventure'}, {'id': 14, 'name': 'Fantasy'}, {'id':...</td>\n",
       "      <td>[{'cast_id': 1, 'character': 'Alan Parrish', 'credit_id': '52fe44bfc3a3...</td>\n",
       "      <td>[{'credit_id': '52fe44bfc3a36847f80a7cd1', 'department': 'Production', ...</td>\n",
       "    </tr>\n",
       "    <tr>\n",
       "      <th>1</th>\n",
       "      <td>Grumpier Old Men</td>\n",
       "      <td>15602</td>\n",
       "      <td>[{'id': 10749, 'name': 'Romance'}, {'id': 35, 'name': 'Comedy'}]</td>\n",
       "      <td>[{'cast_id': 2, 'character': 'Max Goldman', 'credit_id': '52fe466a92514...</td>\n",
       "      <td>[{'credit_id': '52fe466a9251416c75077a89', 'department': 'Directing', '...</td>\n",
       "    </tr>\n",
       "    <tr>\n",
       "      <th>2</th>\n",
       "      <td>Waiting to Exhale</td>\n",
       "      <td>31357</td>\n",
       "      <td>[{'id': 35, 'name': 'Comedy'}, {'id': 18, 'name': 'Drama'}, {'id': 1074...</td>\n",
       "      <td>[{'cast_id': 1, 'character': \"Savannah 'Vannah' Jackson\", 'credit_id': ...</td>\n",
       "      <td>[{'credit_id': '52fe44779251416c91011acb', 'department': 'Directing', '...</td>\n",
       "    </tr>\n",
       "    <tr>\n",
       "      <th>3</th>\n",
       "      <td>Father of the Bride Part II</td>\n",
       "      <td>11862</td>\n",
       "      <td>[{'id': 35, 'name': 'Comedy'}]</td>\n",
       "      <td>[{'cast_id': 1, 'character': 'George Banks', 'credit_id': '52fe44959251...</td>\n",
       "      <td>[{'credit_id': '52fe44959251416c75039ed7', 'department': 'Sound', 'gend...</td>\n",
       "    </tr>\n",
       "    <tr>\n",
       "      <th>4</th>\n",
       "      <td>Heat</td>\n",
       "      <td>949</td>\n",
       "      <td>[{'id': 28, 'name': 'Action'}, {'id': 80, 'name': 'Crime'}, {'id': 18, ...</td>\n",
       "      <td>[{'cast_id': 25, 'character': 'Lt. Vincent Hanna', 'credit_id': '52fe42...</td>\n",
       "      <td>[{'credit_id': '52fe4292c3a36847f802916d', 'department': 'Directing', '...</td>\n",
       "    </tr>\n",
       "  </tbody>\n",
       "</table>\n",
       "</div>"
      ],
      "text/plain": [
       "                         title     id  \\\n",
       "0                      Jumanji   8844   \n",
       "1             Grumpier Old Men  15602   \n",
       "2            Waiting to Exhale  31357   \n",
       "3  Father of the Bride Part II  11862   \n",
       "4                         Heat    949   \n",
       "\n",
       "                                                                       genres  \\\n",
       "0  [{'id': 12, 'name': 'Adventure'}, {'id': 14, 'name': 'Fantasy'}, {'id':...   \n",
       "1            [{'id': 10749, 'name': 'Romance'}, {'id': 35, 'name': 'Comedy'}]   \n",
       "2  [{'id': 35, 'name': 'Comedy'}, {'id': 18, 'name': 'Drama'}, {'id': 1074...   \n",
       "3                                              [{'id': 35, 'name': 'Comedy'}]   \n",
       "4  [{'id': 28, 'name': 'Action'}, {'id': 80, 'name': 'Crime'}, {'id': 18, ...   \n",
       "\n",
       "                                                                         cast  \\\n",
       "0  [{'cast_id': 1, 'character': 'Alan Parrish', 'credit_id': '52fe44bfc3a3...   \n",
       "1  [{'cast_id': 2, 'character': 'Max Goldman', 'credit_id': '52fe466a92514...   \n",
       "2  [{'cast_id': 1, 'character': \"Savannah 'Vannah' Jackson\", 'credit_id': ...   \n",
       "3  [{'cast_id': 1, 'character': 'George Banks', 'credit_id': '52fe44959251...   \n",
       "4  [{'cast_id': 25, 'character': 'Lt. Vincent Hanna', 'credit_id': '52fe42...   \n",
       "\n",
       "                                                                         crew  \n",
       "0  [{'credit_id': '52fe44bfc3a36847f80a7cd1', 'department': 'Production', ...  \n",
       "1  [{'credit_id': '52fe466a9251416c75077a89', 'department': 'Directing', '...  \n",
       "2  [{'credit_id': '52fe44779251416c91011acb', 'department': 'Directing', '...  \n",
       "3  [{'credit_id': '52fe44959251416c75039ed7', 'department': 'Sound', 'gend...  \n",
       "4  [{'credit_id': '52fe4292c3a36847f802916d', 'department': 'Directing', '...  "
      ]
     },
     "execution_count": 26,
     "metadata": {},
     "output_type": "execute_result"
    }
   ],
   "source": [
    "pd.set_option('display.max_colwidth',75)\n",
    "data = pd.merge(mm,c,on='id')\n",
    "data.head()"
   ]
  },
  {
   "cell_type": "code",
   "execution_count": 27,
   "metadata": {},
   "outputs": [
    {
     "data": {
      "text/plain": [
       "\"[{'id': 12, 'name': 'Adventure'}, {'id': 14, 'name': 'Fantasy'}, {'id': 10751, 'name': 'Family'}]\""
      ]
     },
     "execution_count": 27,
     "metadata": {},
     "output_type": "execute_result"
    }
   ],
   "source": [
    "data['genres'][0]"
   ]
  },
  {
   "cell_type": "code",
   "execution_count": 28,
   "metadata": {},
   "outputs": [],
   "source": [
    "data['genres'] = data['genres'].map(lambda x: ast.literal_eval(x))\n",
    "data['cast'] = data['cast'].map(lambda x: ast.literal_eval(x))\n",
    "data['crew'] = data['crew'].map(lambda x: ast.literal_eval(x))"
   ]
  },
  {
   "cell_type": "code",
   "execution_count": 29,
   "metadata": {},
   "outputs": [
    {
     "data": {
      "text/plain": [
       "[{'id': 12, 'name': 'Adventure'},\n",
       " {'id': 14, 'name': 'Fantasy'},\n",
       " {'id': 10751, 'name': 'Family'}]"
      ]
     },
     "execution_count": 29,
     "metadata": {},
     "output_type": "execute_result"
    }
   ],
   "source": [
    "data['genres'][0]"
   ]
  },
  {
   "cell_type": "code",
   "execution_count": 30,
   "metadata": {},
   "outputs": [],
   "source": [
    "def make_genrelist(x):\n",
    "    gen = []\n",
    "    st=' '\n",
    "    for i in x:\n",
    "        if i.get('name') == \" Science Fiction\":\n",
    "            scifi = 'Sci-Fi'\n",
    "            gen.append(scifi)\n",
    "        elif i.get('name') == \"TV Movie\":\n",
    "            continue\n",
    "        else:\n",
    "            gen.append(i.get('name'))\n",
    "    if gen == []:\n",
    "        return (' ')\n",
    "    else:\n",
    "        return (st.join(gen))"
   ]
  },
  {
   "cell_type": "code",
   "execution_count": 31,
   "metadata": {},
   "outputs": [],
   "source": [
    "def get_actor1(x):\n",
    "    cst = []\n",
    "    for i in x:\n",
    "            cst.append(i.get('name'))\n",
    "    if cst == []:\n",
    "        return (' ')\n",
    "    else:\n",
    "        return (cst[0])"
   ]
  },
  {
   "cell_type": "code",
   "execution_count": 32,
   "metadata": {},
   "outputs": [],
   "source": [
    "def get_actor2(x):\n",
    "    cst = []\n",
    "    for i in x:\n",
    "            cst.append(i.get('name'))\n",
    "    if cst == [] or len(cst)<2:\n",
    "        return (' ')\n",
    "    else:\n",
    "        return (cst[1])"
   ]
  },
  {
   "cell_type": "code",
   "execution_count": 33,
   "metadata": {},
   "outputs": [],
   "source": [
    "def get_actor3(x):\n",
    "    cst = []\n",
    "    for i in x:\n",
    "            cst.append(i.get('name'))\n",
    "    if cst == [] or len(cst)<3:\n",
    "        return (' ')\n",
    "    else:\n",
    "        return (cst[2])"
   ]
  },
  {
   "cell_type": "code",
   "execution_count": 34,
   "metadata": {},
   "outputs": [],
   "source": [
    "def get_director(x):\n",
    "    direc = []\n",
    "    st = ' '\n",
    "    for i in x:\n",
    "        if i.get('job') == 'Director':\n",
    "            direc.append(i.get('name'))\n",
    "    if direc == []:\n",
    "        return (' ')\n",
    "    else:\n",
    "        return (st.join(direc))"
   ]
  },
  {
   "cell_type": "code",
   "execution_count": 35,
   "metadata": {},
   "outputs": [],
   "source": [
    "data['genres'] = data['genres'].apply(lambda x:make_genrelist(x))\n",
    "data['actor_1_name'] = data['cast'].apply(lambda x:get_actor1(x))\n",
    "data['actor_2_name'] = data['cast'].apply(lambda x:get_actor2(x))\n",
    "data['actor_3_name'] = data['cast'].apply(lambda x:get_actor3(x))\n",
    "data['director'] = data['crew'].apply(lambda x:get_director(x))"
   ]
  },
  {
   "cell_type": "code",
   "execution_count": 36,
   "metadata": {},
   "outputs": [
    {
     "data": {
      "text/html": [
       "<div>\n",
       "<style scoped>\n",
       "    .dataframe tbody tr th:only-of-type {\n",
       "        vertical-align: middle;\n",
       "    }\n",
       "\n",
       "    .dataframe tbody tr th {\n",
       "        vertical-align: top;\n",
       "    }\n",
       "\n",
       "    .dataframe thead th {\n",
       "        text-align: right;\n",
       "    }\n",
       "</style>\n",
       "<table border=\"1\" class=\"dataframe\">\n",
       "  <thead>\n",
       "    <tr style=\"text-align: right;\">\n",
       "      <th></th>\n",
       "      <th>title</th>\n",
       "      <th>id</th>\n",
       "      <th>genres</th>\n",
       "      <th>cast</th>\n",
       "      <th>crew</th>\n",
       "      <th>actor_1_name</th>\n",
       "      <th>actor_2_name</th>\n",
       "      <th>actor_3_name</th>\n",
       "      <th>director</th>\n",
       "    </tr>\n",
       "  </thead>\n",
       "  <tbody>\n",
       "    <tr>\n",
       "      <th>0</th>\n",
       "      <td>Jumanji</td>\n",
       "      <td>8844</td>\n",
       "      <td>Adventure Fantasy Family</td>\n",
       "      <td>[{'cast_id': 1, 'character': 'Alan Parrish', 'credit_id': '52fe44bfc3a3...</td>\n",
       "      <td>[{'credit_id': '52fe44bfc3a36847f80a7cd1', 'department': 'Production', ...</td>\n",
       "      <td>Robin Williams</td>\n",
       "      <td>Jonathan Hyde</td>\n",
       "      <td>Kirsten Dunst</td>\n",
       "      <td>Joe Johnston</td>\n",
       "    </tr>\n",
       "    <tr>\n",
       "      <th>1</th>\n",
       "      <td>Grumpier Old Men</td>\n",
       "      <td>15602</td>\n",
       "      <td>Romance Comedy</td>\n",
       "      <td>[{'cast_id': 2, 'character': 'Max Goldman', 'credit_id': '52fe466a92514...</td>\n",
       "      <td>[{'credit_id': '52fe466a9251416c75077a89', 'department': 'Directing', '...</td>\n",
       "      <td>Walter Matthau</td>\n",
       "      <td>Jack Lemmon</td>\n",
       "      <td>Ann-Margret</td>\n",
       "      <td>Howard Deutch</td>\n",
       "    </tr>\n",
       "  </tbody>\n",
       "</table>\n",
       "</div>"
      ],
      "text/plain": [
       "              title     id                    genres  \\\n",
       "0           Jumanji   8844  Adventure Fantasy Family   \n",
       "1  Grumpier Old Men  15602            Romance Comedy   \n",
       "\n",
       "                                                                         cast  \\\n",
       "0  [{'cast_id': 1, 'character': 'Alan Parrish', 'credit_id': '52fe44bfc3a3...   \n",
       "1  [{'cast_id': 2, 'character': 'Max Goldman', 'credit_id': '52fe466a92514...   \n",
       "\n",
       "                                                                         crew  \\\n",
       "0  [{'credit_id': '52fe44bfc3a36847f80a7cd1', 'department': 'Production', ...   \n",
       "1  [{'credit_id': '52fe466a9251416c75077a89', 'department': 'Directing', '...   \n",
       "\n",
       "     actor_1_name   actor_2_name   actor_3_name       director  \n",
       "0  Robin Williams  Jonathan Hyde  Kirsten Dunst   Joe Johnston  \n",
       "1  Walter Matthau    Jack Lemmon    Ann-Margret  Howard Deutch  "
      ]
     },
     "execution_count": 36,
     "metadata": {},
     "output_type": "execute_result"
    }
   ],
   "source": [
    "data.head(2)"
   ]
  },
  {
   "cell_type": "code",
   "execution_count": 37,
   "metadata": {},
   "outputs": [
    {
     "name": "stdout",
     "output_type": "stream",
     "text": [
      "['Adventure', 'Fantasy', 'Family', 'Romance', 'Comedy', 'Drama', 'Action', 'Crime', 'Thriller', 'History', 'Science', 'Fiction', 'Mystery', 'War', 'Music', 'Horror', 'Documentary', 'Foreign', 'Western', 'Animation', '']\n"
     ]
    }
   ],
   "source": [
    "g = []\n",
    "for i in data.genres:\n",
    "    w = []\n",
    "    w = i.split(' ')\n",
    "    for j in w:\n",
    "        if j not in g:\n",
    "            g.append(j)\n",
    "print(g)"
   ]
  },
  {
   "cell_type": "code",
   "execution_count": 38,
   "metadata": {},
   "outputs": [
    {
     "data": {
      "text/plain": [
       "(10639, 9)"
      ]
     },
     "execution_count": 38,
     "metadata": {},
     "output_type": "execute_result"
    }
   ],
   "source": [
    "data.shape"
   ]
  },
  {
   "cell_type": "code",
   "execution_count": 39,
   "metadata": {},
   "outputs": [],
   "source": [
    "data.drop(['cast','crew'],axis=1,inplace=True)"
   ]
  },
  {
   "cell_type": "code",
   "execution_count": 40,
   "metadata": {},
   "outputs": [],
   "source": [
    "data2 = data[['title','director','actor_1_name','actor_2_name','actor_3_name','genres']]"
   ]
  },
  {
   "cell_type": "code",
   "execution_count": 41,
   "metadata": {},
   "outputs": [
    {
     "data": {
      "text/plain": [
       "title           0\n",
       "director        0\n",
       "actor_1_name    0\n",
       "actor_2_name    0\n",
       "actor_3_name    0\n",
       "genres          0\n",
       "dtype: int64"
      ]
     },
     "execution_count": 41,
     "metadata": {},
     "output_type": "execute_result"
    }
   ],
   "source": [
    "data2.isna().sum()"
   ]
  },
  {
   "cell_type": "code",
   "execution_count": 42,
   "metadata": {},
   "outputs": [
    {
     "data": {
      "text/plain": [
       "(10639, 6)"
      ]
     },
     "execution_count": 42,
     "metadata": {},
     "output_type": "execute_result"
    }
   ],
   "source": [
    "data2.shape"
   ]
  },
  {
   "cell_type": "code",
   "execution_count": 43,
   "metadata": {},
   "outputs": [
    {
     "data": {
      "text/plain": [
       "(10639, 6)"
      ]
     },
     "execution_count": 43,
     "metadata": {},
     "output_type": "execute_result"
    }
   ],
   "source": [
    "data2 = data2.dropna()\n",
    "data2.shape"
   ]
  },
  {
   "cell_type": "code",
   "execution_count": 44,
   "metadata": {},
   "outputs": [],
   "source": [
    "data2 = data2.rename(columns = {'title':'movie_title','director':'director_name'})"
   ]
  },
  {
   "cell_type": "code",
   "execution_count": 45,
   "metadata": {},
   "outputs": [
    {
     "data": {
      "text/html": [
       "<div>\n",
       "<style scoped>\n",
       "    .dataframe tbody tr th:only-of-type {\n",
       "        vertical-align: middle;\n",
       "    }\n",
       "\n",
       "    .dataframe tbody tr th {\n",
       "        vertical-align: top;\n",
       "    }\n",
       "\n",
       "    .dataframe thead th {\n",
       "        text-align: right;\n",
       "    }\n",
       "</style>\n",
       "<table border=\"1\" class=\"dataframe\">\n",
       "  <thead>\n",
       "    <tr style=\"text-align: right;\">\n",
       "      <th></th>\n",
       "      <th>movie_title</th>\n",
       "      <th>director_name</th>\n",
       "      <th>actor_1_name</th>\n",
       "      <th>actor_2_name</th>\n",
       "      <th>actor_3_name</th>\n",
       "      <th>genres</th>\n",
       "    </tr>\n",
       "  </thead>\n",
       "  <tbody>\n",
       "    <tr>\n",
       "      <th>0</th>\n",
       "      <td>Jumanji</td>\n",
       "      <td>Joe Johnston</td>\n",
       "      <td>Robin Williams</td>\n",
       "      <td>Jonathan Hyde</td>\n",
       "      <td>Kirsten Dunst</td>\n",
       "      <td>Adventure Fantasy Family</td>\n",
       "    </tr>\n",
       "    <tr>\n",
       "      <th>1</th>\n",
       "      <td>Grumpier Old Men</td>\n",
       "      <td>Howard Deutch</td>\n",
       "      <td>Walter Matthau</td>\n",
       "      <td>Jack Lemmon</td>\n",
       "      <td>Ann-Margret</td>\n",
       "      <td>Romance Comedy</td>\n",
       "    </tr>\n",
       "  </tbody>\n",
       "</table>\n",
       "</div>"
      ],
      "text/plain": [
       "        movie_title  director_name    actor_1_name   actor_2_name  \\\n",
       "0           Jumanji   Joe Johnston  Robin Williams  Jonathan Hyde   \n",
       "1  Grumpier Old Men  Howard Deutch  Walter Matthau    Jack Lemmon   \n",
       "\n",
       "    actor_3_name                    genres  \n",
       "0  Kirsten Dunst  Adventure Fantasy Family  \n",
       "1    Ann-Margret            Romance Comedy  "
      ]
     },
     "execution_count": 45,
     "metadata": {},
     "output_type": "execute_result"
    }
   ],
   "source": [
    "data2.head(2)"
   ]
  },
  {
   "cell_type": "code",
   "execution_count": 46,
   "metadata": {},
   "outputs": [
    {
     "data": {
      "text/html": [
       "<div>\n",
       "<style scoped>\n",
       "    .dataframe tbody tr th:only-of-type {\n",
       "        vertical-align: middle;\n",
       "    }\n",
       "\n",
       "    .dataframe tbody tr th {\n",
       "        vertical-align: top;\n",
       "    }\n",
       "\n",
       "    .dataframe thead th {\n",
       "        text-align: right;\n",
       "    }\n",
       "</style>\n",
       "<table border=\"1\" class=\"dataframe\">\n",
       "  <thead>\n",
       "    <tr style=\"text-align: right;\">\n",
       "      <th></th>\n",
       "      <th>movie_title</th>\n",
       "      <th>director_name</th>\n",
       "      <th>actor_1_name</th>\n",
       "      <th>actor_2_name</th>\n",
       "      <th>actor_3_name</th>\n",
       "      <th>genres</th>\n",
       "    </tr>\n",
       "  </thead>\n",
       "  <tbody>\n",
       "    <tr>\n",
       "      <th>0</th>\n",
       "      <td>jumanji</td>\n",
       "      <td>joe johnston</td>\n",
       "      <td>robin williams</td>\n",
       "      <td>jonathan hyde</td>\n",
       "      <td>kirsten dunst</td>\n",
       "      <td>adventure fantasy family</td>\n",
       "    </tr>\n",
       "    <tr>\n",
       "      <th>1</th>\n",
       "      <td>grumpier old men</td>\n",
       "      <td>howard deutch</td>\n",
       "      <td>walter matthau</td>\n",
       "      <td>jack lemmon</td>\n",
       "      <td>ann-margret</td>\n",
       "      <td>romance comedy</td>\n",
       "    </tr>\n",
       "    <tr>\n",
       "      <th>2</th>\n",
       "      <td>waiting to exhale</td>\n",
       "      <td>forest whitaker</td>\n",
       "      <td>whitney houston</td>\n",
       "      <td>angela bassett</td>\n",
       "      <td>loretta devine</td>\n",
       "      <td>comedy drama romance</td>\n",
       "    </tr>\n",
       "    <tr>\n",
       "      <th>3</th>\n",
       "      <td>father of the bride part ii</td>\n",
       "      <td>charles shyer</td>\n",
       "      <td>steve martin</td>\n",
       "      <td>diane keaton</td>\n",
       "      <td>martin short</td>\n",
       "      <td>comedy</td>\n",
       "    </tr>\n",
       "    <tr>\n",
       "      <th>4</th>\n",
       "      <td>heat</td>\n",
       "      <td>michael mann</td>\n",
       "      <td>al pacino</td>\n",
       "      <td>robert de niro</td>\n",
       "      <td>val kilmer</td>\n",
       "      <td>action crime drama thriller</td>\n",
       "    </tr>\n",
       "  </tbody>\n",
       "</table>\n",
       "</div>"
      ],
      "text/plain": [
       "                   movie_title    director_name     actor_1_name  \\\n",
       "0                      jumanji     joe johnston   robin williams   \n",
       "1             grumpier old men    howard deutch   walter matthau   \n",
       "2            waiting to exhale  forest whitaker  whitney houston   \n",
       "3  father of the bride part ii    charles shyer     steve martin   \n",
       "4                         heat     michael mann        al pacino   \n",
       "\n",
       "     actor_2_name    actor_3_name                       genres  \n",
       "0   jonathan hyde   kirsten dunst     adventure fantasy family  \n",
       "1     jack lemmon     ann-margret               romance comedy  \n",
       "2  angela bassett  loretta devine         comedy drama romance  \n",
       "3    diane keaton    martin short                       comedy  \n",
       "4  robert de niro      val kilmer  action crime drama thriller  "
      ]
     },
     "execution_count": 46,
     "metadata": {},
     "output_type": "execute_result"
    }
   ],
   "source": [
    "data2 = data2.apply(lambda x : x.str.lower())\n",
    "data2.head()"
   ]
  },
  {
   "cell_type": "code",
   "execution_count": 47,
   "metadata": {},
   "outputs": [
    {
     "data": {
      "text/html": [
       "<div>\n",
       "<style scoped>\n",
       "    .dataframe tbody tr th:only-of-type {\n",
       "        vertical-align: middle;\n",
       "    }\n",
       "\n",
       "    .dataframe tbody tr th {\n",
       "        vertical-align: top;\n",
       "    }\n",
       "\n",
       "    .dataframe thead th {\n",
       "        text-align: right;\n",
       "    }\n",
       "</style>\n",
       "<table border=\"1\" class=\"dataframe\">\n",
       "  <thead>\n",
       "    <tr style=\"text-align: right;\">\n",
       "      <th></th>\n",
       "      <th>movie_title</th>\n",
       "      <th>director_name</th>\n",
       "      <th>actor_1_name</th>\n",
       "      <th>actor_2_name</th>\n",
       "      <th>actor_3_name</th>\n",
       "      <th>genres</th>\n",
       "      <th>combined</th>\n",
       "    </tr>\n",
       "  </thead>\n",
       "  <tbody>\n",
       "    <tr>\n",
       "      <th>0</th>\n",
       "      <td>jumanji</td>\n",
       "      <td>joe johnston</td>\n",
       "      <td>robin williams</td>\n",
       "      <td>jonathan hyde</td>\n",
       "      <td>kirsten dunst</td>\n",
       "      <td>adventure fantasy family</td>\n",
       "      <td>joe johnston robin williams jonathan hyde kirsten dunst adventure fanta...</td>\n",
       "    </tr>\n",
       "  </tbody>\n",
       "</table>\n",
       "</div>"
      ],
      "text/plain": [
       "  movie_title director_name    actor_1_name   actor_2_name   actor_3_name  \\\n",
       "0     jumanji  joe johnston  robin williams  jonathan hyde  kirsten dunst   \n",
       "\n",
       "                     genres  \\\n",
       "0  adventure fantasy family   \n",
       "\n",
       "                                                                     combined  \n",
       "0  joe johnston robin williams jonathan hyde kirsten dunst adventure fanta...  "
      ]
     },
     "execution_count": 47,
     "metadata": {},
     "output_type": "execute_result"
    }
   ],
   "source": [
    "data2['combined']=data2.director_name +' '+ data2.actor_1_name + ' ' + data2.actor_2_name + ' ' + data2.actor_3_name + ' ' + data2.genres\n",
    "data2.head(1)"
   ]
  },
  {
   "cell_type": "code",
   "execution_count": 48,
   "metadata": {},
   "outputs": [
    {
     "data": {
      "text/plain": [
       "(10639, 7)"
      ]
     },
     "execution_count": 48,
     "metadata": {},
     "output_type": "execute_result"
    }
   ],
   "source": [
    "data2.shape"
   ]
  },
  {
   "cell_type": "code",
   "execution_count": 49,
   "metadata": {},
   "outputs": [
    {
     "data": {
      "text/html": [
       "<div>\n",
       "<style scoped>\n",
       "    .dataframe tbody tr th:only-of-type {\n",
       "        vertical-align: middle;\n",
       "    }\n",
       "\n",
       "    .dataframe tbody tr th {\n",
       "        vertical-align: top;\n",
       "    }\n",
       "\n",
       "    .dataframe thead th {\n",
       "        text-align: right;\n",
       "    }\n",
       "</style>\n",
       "<table border=\"1\" class=\"dataframe\">\n",
       "  <thead>\n",
       "    <tr style=\"text-align: right;\">\n",
       "      <th></th>\n",
       "      <th>Unnamed: 0</th>\n",
       "      <th>movie_title</th>\n",
       "      <th>director_name</th>\n",
       "      <th>actor_1_name</th>\n",
       "      <th>actor_2_name</th>\n",
       "      <th>actor_3_name</th>\n",
       "      <th>genres</th>\n",
       "      <th>combined</th>\n",
       "    </tr>\n",
       "  </thead>\n",
       "  <tbody>\n",
       "    <tr>\n",
       "      <th>3425</th>\n",
       "      <td>3425</td>\n",
       "      <td>shanghai calling</td>\n",
       "      <td>daniel hsia</td>\n",
       "      <td>alan ruck</td>\n",
       "      <td>daniel henney</td>\n",
       "      <td>eliza coupe</td>\n",
       "      <td>comedy drama romance</td>\n",
       "      <td>daniel hsia alan ruck daniel henney eliza coupe comedy drama romance</td>\n",
       "    </tr>\n",
       "    <tr>\n",
       "      <th>3426</th>\n",
       "      <td>3426</td>\n",
       "      <td>my date with drew</td>\n",
       "      <td>jon gunn</td>\n",
       "      <td>john august</td>\n",
       "      <td>brian herzlinger</td>\n",
       "      <td>jon gunn</td>\n",
       "      <td>documentary</td>\n",
       "      <td>jon gunn john august brian herzlinger jon gunn documentary</td>\n",
       "    </tr>\n",
       "  </tbody>\n",
       "</table>\n",
       "</div>"
      ],
      "text/plain": [
       "      Unnamed: 0        movie_title director_name actor_1_name  \\\n",
       "3425        3425   shanghai calling   daniel hsia    alan ruck   \n",
       "3426        3426  my date with drew      jon gunn  john august   \n",
       "\n",
       "          actor_2_name actor_3_name                genres  \\\n",
       "3425     daniel henney  eliza coupe  comedy drama romance   \n",
       "3426  brian herzlinger     jon gunn           documentary   \n",
       "\n",
       "                                                                  combined  \n",
       "3425  daniel hsia alan ruck daniel henney eliza coupe comedy drama romance  \n",
       "3426            jon gunn john august brian herzlinger jon gunn documentary  "
      ]
     },
     "execution_count": 49,
     "metadata": {},
     "output_type": "execute_result"
    }
   ],
   "source": [
    "old = pd.read_csv('data.csv')\n",
    "old.tail(2)"
   ]
  },
  {
   "cell_type": "code",
   "execution_count": 50,
   "metadata": {},
   "outputs": [
    {
     "data": {
      "text/plain": [
       "((3427, 7),\n",
       "   movie_title  director_name actor_1_name      actor_2_name actor_3_name  \\\n",
       " 0      avatar  james cameron  cch pounder  joel david moore    wes studi   \n",
       " \n",
       "                             genres  \\\n",
       " 0  action adventure fantasy sci-fi   \n",
       " \n",
       "                                                                      combined  \n",
       " 0  james cameron cch pounder joel david moore wes studi action adventure f...  )"
      ]
     },
     "execution_count": 50,
     "metadata": {},
     "output_type": "execute_result"
    }
   ],
   "source": [
    "old.drop('Unnamed: 0',axis=1,inplace=True)\n",
    "old.shape,old.head(1)"
   ]
  },
  {
   "cell_type": "code",
   "execution_count": 51,
   "metadata": {},
   "outputs": [],
   "source": [
    "new = old.append(data2)"
   ]
  },
  {
   "cell_type": "code",
   "execution_count": 52,
   "metadata": {},
   "outputs": [
    {
     "data": {
      "text/plain": [
       "(14066, 7)"
      ]
     },
     "execution_count": 52,
     "metadata": {},
     "output_type": "execute_result"
    }
   ],
   "source": [
    "new.shape"
   ]
  },
  {
   "cell_type": "code",
   "execution_count": 53,
   "metadata": {},
   "outputs": [
    {
     "data": {
      "text/plain": [
       "(10795, 7)"
      ]
     },
     "execution_count": 53,
     "metadata": {},
     "output_type": "execute_result"
    }
   ],
   "source": [
    "new.drop_duplicates(subset='movie_title',keep='last',inplace=True)\n",
    "new.shape"
   ]
  },
  {
   "cell_type": "code",
   "execution_count": 54,
   "metadata": {},
   "outputs": [],
   "source": [
    "new.reset_index(inplace = True)"
   ]
  },
  {
   "cell_type": "code",
   "execution_count": 55,
   "metadata": {},
   "outputs": [
    {
     "data": {
      "text/html": [
       "<div>\n",
       "<style scoped>\n",
       "    .dataframe tbody tr th:only-of-type {\n",
       "        vertical-align: middle;\n",
       "    }\n",
       "\n",
       "    .dataframe tbody tr th {\n",
       "        vertical-align: top;\n",
       "    }\n",
       "\n",
       "    .dataframe thead th {\n",
       "        text-align: right;\n",
       "    }\n",
       "</style>\n",
       "<table border=\"1\" class=\"dataframe\">\n",
       "  <thead>\n",
       "    <tr style=\"text-align: right;\">\n",
       "      <th></th>\n",
       "      <th>movie_title</th>\n",
       "      <th>director_name</th>\n",
       "      <th>actor_1_name</th>\n",
       "      <th>actor_2_name</th>\n",
       "      <th>actor_3_name</th>\n",
       "      <th>genres</th>\n",
       "      <th>combined</th>\n",
       "    </tr>\n",
       "  </thead>\n",
       "  <tbody>\n",
       "    <tr>\n",
       "      <th>0</th>\n",
       "      <td>monsters vs. aliens</td>\n",
       "      <td>rob letterman</td>\n",
       "      <td>amy poehler</td>\n",
       "      <td>rainn wilson</td>\n",
       "      <td>stephen colbert</td>\n",
       "      <td>action adventure animation comedy family sci-fi</td>\n",
       "      <td>rob letterman amy poehler rainn wilson stephen colbert action adventure...</td>\n",
       "    </tr>\n",
       "    <tr>\n",
       "      <th>1</th>\n",
       "      <td>puss in boots</td>\n",
       "      <td>chris miller</td>\n",
       "      <td>salma hayek</td>\n",
       "      <td>constance marie</td>\n",
       "      <td>amy sedaris</td>\n",
       "      <td>action adventure animation comedy family fantasy</td>\n",
       "      <td>chris miller salma hayek constance marie amy sedaris action adventure a...</td>\n",
       "    </tr>\n",
       "    <tr>\n",
       "      <th>2</th>\n",
       "      <td>harry potter and the sorcerer's stone</td>\n",
       "      <td>chris columbus</td>\n",
       "      <td>daniel radcliffe</td>\n",
       "      <td>fiona shaw</td>\n",
       "      <td>verne troyer</td>\n",
       "      <td>adventure family fantasy</td>\n",
       "      <td>chris columbus daniel radcliffe fiona shaw verne troyer adventure famil...</td>\n",
       "    </tr>\n",
       "    <tr>\n",
       "      <th>3</th>\n",
       "      <td>die hard with a vengeance</td>\n",
       "      <td>john mctiernan</td>\n",
       "      <td>bruce willis</td>\n",
       "      <td>aldis hodge</td>\n",
       "      <td>kevin chamberlin</td>\n",
       "      <td>action adventure thriller</td>\n",
       "      <td>john mctiernan bruce willis aldis hodge kevin chamberlin action adventu...</td>\n",
       "    </tr>\n",
       "    <tr>\n",
       "      <th>4</th>\n",
       "      <td>the nutcracker in 3d</td>\n",
       "      <td>andrey konchalovskiy</td>\n",
       "      <td>shirley henderson</td>\n",
       "      <td>nathan lane</td>\n",
       "      <td>richard e. grant</td>\n",
       "      <td>action family fantasy musical</td>\n",
       "      <td>andrey konchalovskiy shirley henderson nathan lane richard e. grant act...</td>\n",
       "    </tr>\n",
       "    <tr>\n",
       "      <th>...</th>\n",
       "      <td>...</td>\n",
       "      <td>...</td>\n",
       "      <td>...</td>\n",
       "      <td>...</td>\n",
       "      <td>...</td>\n",
       "      <td>...</td>\n",
       "      <td>...</td>\n",
       "    </tr>\n",
       "    <tr>\n",
       "      <th>10790</th>\n",
       "      <td>an american vampire story</td>\n",
       "      <td>luis esteban\\t</td>\n",
       "      <td>trevor lissauer</td>\n",
       "      <td>johnny venocur</td>\n",
       "      <td>adam west</td>\n",
       "      <td>comedy horror</td>\n",
       "      <td>luis esteban\\t trevor lissauer johnny venocur adam west comedy horror</td>\n",
       "    </tr>\n",
       "    <tr>\n",
       "      <th>10791</th>\n",
       "      <td>fit to kill</td>\n",
       "      <td>andy sidaris</td>\n",
       "      <td>dona speir</td>\n",
       "      <td>roberta vasquez</td>\n",
       "      <td>bruce penhall</td>\n",
       "      <td>action romance thriller</td>\n",
       "      <td>andy sidaris dona speir roberta vasquez bruce penhall action romance th...</td>\n",
       "    </tr>\n",
       "    <tr>\n",
       "      <th>10792</th>\n",
       "      <td>cadet kelly</td>\n",
       "      <td>larry shaw</td>\n",
       "      <td>hilary duff</td>\n",
       "      <td>christy carlson romano</td>\n",
       "      <td>gary cole</td>\n",
       "      <td>comedy</td>\n",
       "      <td>larry shaw hilary duff christy carlson romano gary cole comedy</td>\n",
       "    </tr>\n",
       "    <tr>\n",
       "      <th>10793</th>\n",
       "      <td>robin hood</td>\n",
       "      <td>john irvin</td>\n",
       "      <td>patrick bergin</td>\n",
       "      <td>uma thurman</td>\n",
       "      <td>david morrissey</td>\n",
       "      <td>drama action romance</td>\n",
       "      <td>john irvin patrick bergin uma thurman david morrissey drama action romance</td>\n",
       "    </tr>\n",
       "    <tr>\n",
       "      <th>10794</th>\n",
       "      <td>betrayal</td>\n",
       "      <td>mark l. lester</td>\n",
       "      <td>erika eleniak</td>\n",
       "      <td>adam baldwin</td>\n",
       "      <td>julie du page</td>\n",
       "      <td>action drama thriller</td>\n",
       "      <td>mark l. lester erika eleniak adam baldwin julie du page action drama th...</td>\n",
       "    </tr>\n",
       "  </tbody>\n",
       "</table>\n",
       "<p>10795 rows × 7 columns</p>\n",
       "</div>"
      ],
      "text/plain": [
       "                                 movie_title         director_name  \\\n",
       "0                        monsters vs. aliens         rob letterman   \n",
       "1                              puss in boots          chris miller   \n",
       "2      harry potter and the sorcerer's stone        chris columbus   \n",
       "3                  die hard with a vengeance        john mctiernan   \n",
       "4                       the nutcracker in 3d  andrey konchalovskiy   \n",
       "...                                      ...                   ...   \n",
       "10790              an american vampire story        luis esteban\\t   \n",
       "10791                            fit to kill          andy sidaris   \n",
       "10792                            cadet kelly            larry shaw   \n",
       "10793                             robin hood            john irvin   \n",
       "10794                               betrayal        mark l. lester   \n",
       "\n",
       "            actor_1_name            actor_2_name      actor_3_name  \\\n",
       "0            amy poehler            rainn wilson   stephen colbert   \n",
       "1            salma hayek         constance marie       amy sedaris   \n",
       "2       daniel radcliffe              fiona shaw      verne troyer   \n",
       "3           bruce willis             aldis hodge  kevin chamberlin   \n",
       "4      shirley henderson             nathan lane  richard e. grant   \n",
       "...                  ...                     ...               ...   \n",
       "10790    trevor lissauer          johnny venocur         adam west   \n",
       "10791         dona speir         roberta vasquez     bruce penhall   \n",
       "10792        hilary duff  christy carlson romano         gary cole   \n",
       "10793     patrick bergin             uma thurman   david morrissey   \n",
       "10794      erika eleniak            adam baldwin     julie du page   \n",
       "\n",
       "                                                 genres  \\\n",
       "0       action adventure animation comedy family sci-fi   \n",
       "1      action adventure animation comedy family fantasy   \n",
       "2                              adventure family fantasy   \n",
       "3                             action adventure thriller   \n",
       "4                         action family fantasy musical   \n",
       "...                                                 ...   \n",
       "10790                                     comedy horror   \n",
       "10791                           action romance thriller   \n",
       "10792                                            comedy   \n",
       "10793                              drama action romance   \n",
       "10794                             action drama thriller   \n",
       "\n",
       "                                                                         combined  \n",
       "0      rob letterman amy poehler rainn wilson stephen colbert action adventure...  \n",
       "1      chris miller salma hayek constance marie amy sedaris action adventure a...  \n",
       "2      chris columbus daniel radcliffe fiona shaw verne troyer adventure famil...  \n",
       "3      john mctiernan bruce willis aldis hodge kevin chamberlin action adventu...  \n",
       "4      andrey konchalovskiy shirley henderson nathan lane richard e. grant act...  \n",
       "...                                                                           ...  \n",
       "10790       luis esteban\\t trevor lissauer johnny venocur adam west comedy horror  \n",
       "10791  andy sidaris dona speir roberta vasquez bruce penhall action romance th...  \n",
       "10792              larry shaw hilary duff christy carlson romano gary cole comedy  \n",
       "10793  john irvin patrick bergin uma thurman david morrissey drama action romance  \n",
       "10794  mark l. lester erika eleniak adam baldwin julie du page action drama th...  \n",
       "\n",
       "[10795 rows x 7 columns]"
      ]
     },
     "execution_count": 55,
     "metadata": {},
     "output_type": "execute_result"
    }
   ],
   "source": [
    "new.drop('index',inplace=True,axis=1)\n",
    "new"
   ]
  },
  {
   "cell_type": "code",
   "execution_count": 56,
   "metadata": {},
   "outputs": [],
   "source": [
    "new.to_csv('new_data.csv',index=False)"
   ]
  },
  {
   "cell_type": "code",
   "execution_count": 57,
   "metadata": {},
   "outputs": [
    {
     "name": "stdout",
     "output_type": "stream",
     "text": [
      "['action', 'adventure', 'animation', 'comedy', 'family', 'sci-fi', 'fantasy', 'thriller', 'musical', 'music', 'romance', 'war', 'crime', 'drama', 'horror', 'biography', 'history', 'mystery', 'sport', 'western', 'documentary', 'science', 'fiction', 'foreign', '']\n"
     ]
    }
   ],
   "source": [
    "g = []\n",
    "for i in new.genres:\n",
    "    w = []\n",
    "    w = i.split(' ')\n",
    "    for j in w:\n",
    "        if j not in g:\n",
    "            g.append(j)\n",
    "print(g)"
   ]
  },
  {
   "cell_type": "code",
   "execution_count": null,
   "metadata": {},
   "outputs": [],
   "source": []
  }
 ],
 "metadata": {
  "kernelspec": {
   "display_name": "Python 3",
   "language": "python",
   "name": "python3"
  },
  "language_info": {
   "codemirror_mode": {
    "name": "ipython",
    "version": 3
   },
   "file_extension": ".py",
   "mimetype": "text/x-python",
   "name": "python",
   "nbconvert_exporter": "python",
   "pygments_lexer": "ipython3",
   "version": "3.8.0"
  }
 },
 "nbformat": 4,
 "nbformat_minor": 4
}
